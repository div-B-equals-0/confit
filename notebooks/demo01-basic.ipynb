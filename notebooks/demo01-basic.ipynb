{
 "cells": [
  {
   "cell_type": "markdown",
   "id": "466157e1-110e-46a3-9a4b-f8c62395759e",
   "metadata": {},
   "source": [
    "# Demonstrate basic functionality of confit"
   ]
  },
  {
   "cell_type": "markdown",
   "id": "f49f8cc0-efec-4c5a-81b8-4638a88385f6",
   "metadata": {},
   "source": [
    "## Imports\n",
    "\n",
    "We need to explictly add the path to the library since we haven't installed it yet. "
   ]
  },
  {
   "cell_type": "code",
   "execution_count": 1,
   "id": "ab5605ba-2b7b-448d-8402-c8e173ada869",
   "metadata": {},
   "outputs": [],
   "source": [
    "import sys\n",
    "sys.path.append('../src')\n",
    "import confit\n",
    "import numpy as np\n",
    "import lmfit\n",
    "from matplotlib import pyplot as plt\n",
    "import seaborn as sns"
   ]
  },
  {
   "cell_type": "markdown",
   "id": "0f0265fb-e620-4895-b9f6-540db2932eda",
   "metadata": {},
   "source": [
    "Check that we have the right module"
   ]
  },
  {
   "cell_type": "code",
   "execution_count": 2,
   "id": "cc5dab78-78d2-4e1f-81d4-e192a1d6d113",
   "metadata": {},
   "outputs": [
    {
     "data": {
      "text/plain": [
       "\u001b[0;31mType:\u001b[0m        module\n",
       "\u001b[0;31mString form:\u001b[0m <module 'confit' from '/Users/will/Dropbox/confit/notebooks/../src/confit.py'>\n",
       "\u001b[0;31mFile:\u001b[0m        ~/Dropbox/confit/src/confit.py\n",
       "\u001b[0;31mDocstring:\u001b[0m   Fit conic section curves to data."
      ]
     },
     "metadata": {},
     "output_type": "display_data"
    }
   ],
   "source": [
    "confit?"
   ]
  },
  {
   "cell_type": "markdown",
   "id": "1ba71acd-9a39-4c3e-97e7-42b2b1b9fe28",
   "metadata": {},
   "source": [
    "## Test data\n",
    "\n",
    "Symmetric arrangement of 6 points"
   ]
  },
  {
   "cell_type": "code",
   "execution_count": 3,
   "id": "377e218c-c0a9-4845-9e94-d889b38b37ab",
   "metadata": {},
   "outputs": [],
   "source": [
    "xpts, ypts = np.array([1, 2, 3, 5, 6, 7]), np.array([0, 4, 6, 6, 4, 0])\n",
    "ypts += xpts\n",
    "xpts *= 3"
   ]
  },
  {
   "cell_type": "markdown",
   "id": "ecc96711-9114-419b-b951-a0db7cc2b411",
   "metadata": {},
   "source": [
    "Plot the points"
   ]
  },
  {
   "cell_type": "code",
   "execution_count": 4,
   "id": "15b15d03-3941-427e-aa99-287ab2fed6ca",
   "metadata": {},
   "outputs": [
    {
     "data": {
      "image/png": "[encoded data removed]",
      "text/plain": [
       "<Figure size 640x480 with 1 Axes>"
      ]
     },
     "metadata": {},
     "output_type": "display_data"
    }
   ],
   "source": [
    "fig, ax = plt.subplots()\n",
    "ax.scatter(xpts, ypts)\n",
    "ax.set_aspect(\"equal\")\n",
    "...;"
   ]
  },
  {
   "cell_type": "markdown",
   "id": "18def3ca-2d24-48d7-943b-1cf38ace94ae",
   "metadata": {},
   "source": [
    "## Initial guess at conic parameters\n",
    "\n",
    "This is done automatically inside the fitting function, but we will do it explicitly so we can see what it is doing"
   ]
  },
  {
   "cell_type": "code",
   "execution_count": 5,
   "id": "1d236a45-d7fc-4ee9-a531-448672bb703c",
   "metadata": {},
   "outputs": [
    {
     "data": {
      "text/plain": [
       "{'x0': 12.0,\n",
       " 'y0': 8.0,\n",
       " 'r0': 5.82188282521972,\n",
       " 'theta0': 50.50866913802189,\n",
       " 'eccentricity': 1.0}"
      ]
     },
     "execution_count": 5,
     "metadata": {},
     "output_type": "execute_result"
    }
   ],
   "source": [
    "initial_conic = confit.init_conic_from_xy(xpts, ypts)\n",
    "initial_conic"
   ]
  },
  {
   "cell_type": "markdown",
   "id": "21728ae1-5224-426f-a217-0eb6e91364a3",
   "metadata": {},
   "source": [
    "Look at the residuals for this initial guess, which is\n",
    "$$\n",
    "r - e d\n",
    "$$\n",
    "where $r$ is the radius of each point from the focus and $d$ is the distance of each point from the directrix. \n",
    "\n",
    "We turn on DEBUG so that the residual function will print out the individual vectors, $r$, $d$, and $e \\times d$. "
   ]
  },
  {
   "cell_type": "code",
   "execution_count": 6,
   "id": "9b70c5c1-82ee-4b52-9d4e-83b8d5e0ff8b",
   "metadata": {},
   "outputs": [
    {
     "name": "stdout",
     "output_type": "stream",
     "text": [
      "r = [11.40175425  6.32455532  3.16227766  4.24264069  6.32455532  9.05538514]\n",
      "d = [22.76946453 17.00297606 12.77992922  7.42071881  6.28455524  6.69183331]\n",
      "e d = [22.76946453 17.00297606 12.77992922  7.42071881  6.28455524  6.69183331]\n"
     ]
    },
    {
     "data": {
      "text/plain": [
       "array([-11.36771028, -10.67842074,  -9.61765156,  -3.17807813,\n",
       "         0.04000008,   2.36355183])"
      ]
     },
     "execution_count": 6,
     "metadata": {},
     "output_type": "execute_result"
    }
   ],
   "source": [
    "initial_params = lmfit.create_params(**initial_conic)\n",
    "confit.DEBUG = True\n",
    "confit.residual(initial_params, xpts, ypts)"
   ]
  },
  {
   "cell_type": "markdown",
   "id": "6ce36d5e-db97-4249-a741-b7a420ca8a7b",
   "metadata": {},
   "source": [
    "The residuals are all negative, meaning the points are all inside the conic. This suggests that `r0` is overestimated. "
   ]
  },
  {
   "cell_type": "markdown",
   "id": "613e56da-5058-4f18-adee-9e91fb8dd856",
   "metadata": {},
   "source": [
    "Turn the `DEBUG` flag back off."
   ]
  },
  {
   "cell_type": "code",
   "execution_count": 7,
   "id": "7fa730ef-2ce8-4ba1-8db0-039c5758e4ed",
   "metadata": {},
   "outputs": [],
   "source": [
    "confit.DEBUG = False"
   ]
  },
  {
   "cell_type": "markdown",
   "id": "d3f76099-0381-4d63-b49e-a8624d0ad214",
   "metadata": {},
   "source": [
    "## Do the fitting\n",
    "\n",
    "We set `only_parabola=False` so that the eccentricity is allowed to vary. "
   ]
  },
  {
   "cell_type": "code",
   "execution_count": 8,
   "id": "3eb48520-4c73-4e8b-8d03-404e321fae8b",
   "metadata": {},
   "outputs": [],
   "source": [
    "result = confit.fit_conic_to_xy(xpts, ypts, only_parabola=False)"
   ]
  },
  {
   "cell_type": "code",
   "execution_count": 9,
   "id": "26377515-5b11-428d-8688-d6b98f92a7d2",
   "metadata": {},
   "outputs": [
    {
     "data": {
      "text/html": [
       "<h2>Fit Result</h2> <table class=\"jp-toc-ignore\"><caption class=\"jp-toc-ignore\">Fit Statistics</caption><tr><td style='text-align:left'>fitting method</td><td style='text-align:right'>leastsq</td></tr><tr><td style='text-align:left'># function evals</td><td style='text-align:right'>37</td></tr><tr><td style='text-align:left'># data points</td><td style='text-align:right'>6</td></tr><tr><td style='text-align:left'># variables</td><td style='text-align:right'>5</td></tr><tr><td style='text-align:left'>chi-square</td><td style='text-align:right'> 3.5696e-29</td></tr><tr><td style='text-align:left'>reduced chi-square</td><td style='text-align:right'> 3.5696e-29</td></tr><tr><td style='text-align:left'>Akaike info crit.</td><td style='text-align:right'>-393.765649</td></tr><tr><td style='text-align:left'>Bayesian info crit.</td><td style='text-align:right'>-394.806852</td></tr></table><table class=\"jp-toc-ignore\"><caption>Parameters</caption><tr><th style='text-align:left'>name</th><th style='text-align:left'>value</th><th style='text-align:left'>standard error</th><th style='text-align:left'>relative error</th><th style='text-align:left'>initial value</th><th style='text-align:left'>min</th><th style='text-align:left'>max</th><th style='text-align:right'>vary</th></tr><tr><td style='text-align:left'>x0</td><td style='text-align:left'> 14.9541034</td><td style='text-align:left'> 2.1994e-14</td><td style='text-align:left'>(0.00%)</td><td style='text-align:left'>12.0</td><td style='text-align:left'>       -inf</td><td style='text-align:left'>        inf</td><td style='text-align:right'>True</td></tr><tr><td style='text-align:left'>y0</td><td style='text-align:left'> 7.29089910</td><td style='text-align:left'> 1.8312e-14</td><td style='text-align:left'>(0.00%)</td><td style='text-align:left'>8.0</td><td style='text-align:left'>       -inf</td><td style='text-align:left'>        inf</td><td style='text-align:right'>True</td></tr><tr><td style='text-align:left'>r0</td><td style='text-align:left'> 4.09650809</td><td style='text-align:left'> 2.5022e-14</td><td style='text-align:left'>(0.00%)</td><td style='text-align:left'>5.82188282521972</td><td style='text-align:left'> 0.00000000</td><td style='text-align:left'>        inf</td><td style='text-align:right'>True</td></tr><tr><td style='text-align:left'>theta0</td><td style='text-align:left'> 79.7219774</td><td style='text-align:left'> 2.8095e-13</td><td style='text-align:left'>(0.00%)</td><td style='text-align:left'>50.50866913802189</td><td style='text-align:left'> 0.00000000</td><td style='text-align:left'> 360.000000</td><td style='text-align:right'>True</td></tr><tr><td style='text-align:left'>eccentricity</td><td style='text-align:left'> 0.81790192</td><td style='text-align:left'> 3.6948e-15</td><td style='text-align:left'>(0.00%)</td><td style='text-align:left'>1.0</td><td style='text-align:left'> 0.00000000</td><td style='text-align:left'>        inf</td><td style='text-align:right'>True</td></tr></table><table class=\"jp-toc-ignore\"><caption>Correlations (unreported values are < 0.100)</caption><tr><th style='text-align:left'>Parameter1</th><th style='text-align:left'>Parameter 2</th><th style='text-align:right'>Correlation</th></tr><tr><td style='text-align:left'>y0</td><td style='text-align:left'>r0</td><td style='text-align:right'>-0.9849</td></tr><tr><td style='text-align:left'>x0</td><td style='text-align:left'>theta0</td><td style='text-align:right'>-0.9829</td></tr><tr><td style='text-align:left'>r0</td><td style='text-align:left'>eccentricity</td><td style='text-align:right'>-0.9713</td></tr><tr><td style='text-align:left'>y0</td><td style='text-align:left'>eccentricity</td><td style='text-align:right'>+0.9430</td></tr><tr><td style='text-align:left'>theta0</td><td style='text-align:left'>eccentricity</td><td style='text-align:right'>+0.9003</td></tr><tr><td style='text-align:left'>x0</td><td style='text-align:left'>eccentricity</td><td style='text-align:right'>-0.8365</td></tr><tr><td style='text-align:left'>r0</td><td style='text-align:left'>theta0</td><td style='text-align:right'>-0.7929</td></tr><tr><td style='text-align:left'>y0</td><td style='text-align:left'>theta0</td><td style='text-align:right'>+0.7797</td></tr><tr><td style='text-align:left'>x0</td><td style='text-align:left'>y0</td><td style='text-align:right'>-0.7221</td></tr><tr><td style='text-align:left'>x0</td><td style='text-align:left'>r0</td><td style='text-align:right'>+0.7219</td></tr></table>"
      ],
      "text/plain": [
       "<lmfit.minimizer.MinimizerResult at 0x1411c4700>"
      ]
     },
     "execution_count": 9,
     "metadata": {},
     "output_type": "execute_result"
    }
   ],
   "source": [
    "result"
   ]
  },
  {
   "cell_type": "markdown",
   "id": "8813c013-a0ee-4d0d-9ff5-bab4d4134311",
   "metadata": {},
   "source": [
    "So the best fit is an ellipse with quite a high eccentricity. The scale `r0` (the distance from the focus to the apex) is 0.417, which is considerably smaller than we started with. \n",
    "\n",
    "There are some significant correlations between parameters, but the uncertainty in the fit is tiny, so this does not really matter. \n",
    "\n",
    "Look at the residuals:"
   ]
  },
  {
   "cell_type": "code",
   "execution_count": 10,
   "id": "e4f18117-c418-4b13-9d66-944d2e345437",
   "metadata": {},
   "outputs": [
    {
     "data": {
      "text/plain": [
       "array([-3.55271368e-15, -1.77635684e-15,  0.00000000e+00,  3.10862447e-15,\n",
       "        1.77635684e-15, -2.66453526e-15])"
      ]
     },
     "execution_count": 10,
     "metadata": {},
     "output_type": "execute_result"
    }
   ],
   "source": [
    "result.residual"
   ]
  },
  {
   "cell_type": "markdown",
   "id": "d0727417-7587-42d9-a6db-520e3ff2c556",
   "metadata": {},
   "source": [
    "Also tiny. \n",
    "\n",
    "Now look at the distances that go into the residuals. "
   ]
  },
  {
   "cell_type": "code",
   "execution_count": 11,
   "id": "371f0a41-7a88-40c4-a26c-8e19c82425a4",
   "metadata": {},
   "outputs": [
    {
     "name": "stdout",
     "output_type": "stream",
     "text": [
      "r = [13.50836774  9.04667827  6.1945438   3.70938486  4.07636038  6.0528909 ]\n",
      "d = [16.51587726 11.06083509  7.57370002  4.53524409  4.98392323  7.40050946]\n",
      "e d = [13.50836774  9.04667827  6.1945438   3.70938486  4.07636038  6.0528909 ]\n"
     ]
    }
   ],
   "source": [
    "confit.DEBUG = True\n",
    "confit.residual(result.params, xpts, ypts)\n",
    "confit.DEBUG = False"
   ]
  },
  {
   "cell_type": "markdown",
   "id": "e514145e-d85a-4946-970c-4f765be93848",
   "metadata": {},
   "source": [
    "They really are all the same. "
   ]
  },
  {
   "cell_type": "markdown",
   "id": "2a8d9276-20f3-449f-9f1c-bfcd0e1f514d",
   "metadata": {},
   "source": [
    "## Plotting the best fit onto the data"
   ]
  },
  {
   "cell_type": "code",
   "execution_count": 12,
   "id": "84833dba-9ad3-4d73-b3ed-f28d13b0a942",
   "metadata": {},
   "outputs": [
    {
     "name": "stdout",
     "output_type": "stream",
     "text": [
      "Conic section curve with focus at (14.954103374596437, 7.290899097792872), scale factor 4.096508094252297, angle 79.72197739020828, and eccentricity 0.8179019210783685.\n"
     ]
    }
   ],
   "source": [
    "best_xy = confit.XYconic(**result.params.valuesdict())\n",
    "print(best_xy)"
   ]
  },
  {
   "cell_type": "code",
   "execution_count": 13,
   "id": "af4acd4e-8958-4e11-a192-188a1fe50bc2",
   "metadata": {},
   "outputs": [
    {
     "name": "stdout",
     "output_type": "stream",
     "text": [
      "Conic section curve with focus at (12.0, 8.0), scale factor 5.82188282521972, angle 50.50866913802189, and eccentricity 1.0.\n"
     ]
    },
    {
     "name": "stderr",
     "output_type": "stream",
     "text": [
      "/Users/will/Dropbox/confit/notebooks/../src/confit.py:99: RuntimeWarning: divide by zero encountered in true_divide\n",
      "  self.r0\n"
     ]
    }
   ],
   "source": [
    "init_xy = confit.XYconic(**initial_conic)\n",
    "print(init_xy)"
   ]
  },
  {
   "cell_type": "code",
   "execution_count": 14,
   "id": "fa428713-eed7-41ed-bcfd-0824668f1a0f",
   "metadata": {},
   "outputs": [
    {
     "data": {
      "image/png": "[encoded data removed]",
      "text/plain": [
       "<Figure size 640x480 with 1 Axes>"
      ]
     },
     "metadata": {},
     "output_type": "display_data"
    }
   ],
   "source": [
    "fig, ax = plt.subplots()\n",
    "ax.scatter(xpts, ypts)\n",
    "\n",
    "c = \"orange\"\n",
    "ax.plot(best_xy.x_pts, best_xy.y_pts, color=c)\n",
    "ax.scatter(best_xy.x0, best_xy.y0, marker=\"+\", color=c)\n",
    "ax.plot([best_xy.x0, best_xy.x_mirror], [best_xy.y0, best_xy.y_mirror], color=c)\n",
    "\n",
    "c = \"0.8\"\n",
    "ax.plot(init_xy.x_pts, init_xy.y_pts, color=c)\n",
    "ax.scatter(init_xy.x0, init_xy.y0, marker=\"+\", color=c)\n",
    "ax.plot([init_xy.x0, init_xy.x_mirror], [init_xy.y0, init_xy.y_mirror], color=c)\n",
    "\n",
    "ax.set_aspect(\"equal\")\n",
    "margin = 6\n",
    "ax.set(\n",
    "    xlim=[xpts.min() - margin, xpts.max() + margin],\n",
    "    ylim=[ypts.min() - margin, ypts.max() + margin],\n",
    ")\n",
    "...;"
   ]
  },
  {
   "cell_type": "code",
   "execution_count": 15,
   "id": "b5f7beb8-0683-48cc-a6cb-78b51918cbe4",
   "metadata": {},
   "outputs": [
    {
     "data": {
      "text/html": [
       "<h2>Fit Result</h2> <table class=\"jp-toc-ignore\"><caption class=\"jp-toc-ignore\">Fit Statistics</caption><tr><td style='text-align:left'>fitting method</td><td style='text-align:right'>leastsq</td></tr><tr><td style='text-align:left'># function evals</td><td style='text-align:right'>25</td></tr><tr><td style='text-align:left'># data points</td><td style='text-align:right'>200</td></tr><tr><td style='text-align:left'># variables</td><td style='text-align:right'>5</td></tr><tr><td style='text-align:left'>chi-square</td><td style='text-align:right'> 1.9741e-26</td></tr><tr><td style='text-align:left'>reduced chi-square</td><td style='text-align:right'> 1.0124e-28</td></tr><tr><td style='text-align:left'>Akaike info crit.</td><td style='text-align:right'>-12887.0810</td></tr><tr><td style='text-align:left'>Bayesian info crit.</td><td style='text-align:right'>-12870.5894</td></tr></table><table class=\"jp-toc-ignore\"><caption>Parameters</caption><tr><th style='text-align:left'>name</th><th style='text-align:left'>value</th><th style='text-align:left'>standard error</th><th style='text-align:left'>relative error</th><th style='text-align:left'>initial value</th><th style='text-align:left'>min</th><th style='text-align:left'>max</th><th style='text-align:right'>vary</th></tr><tr><td style='text-align:left'>x0</td><td style='text-align:left'> 14.9541034</td><td style='text-align:left'> 1.9425e-15</td><td style='text-align:left'>(0.00%)</td><td style='text-align:left'>14.912484261166465</td><td style='text-align:left'>       -inf</td><td style='text-align:left'>        inf</td><td style='text-align:right'>True</td></tr><tr><td style='text-align:left'>y0</td><td style='text-align:left'> 7.29089910</td><td style='text-align:left'> 1.9338e-15</td><td style='text-align:left'>(0.00%)</td><td style='text-align:left'>7.236753215467571</td><td style='text-align:left'>       -inf</td><td style='text-align:left'>        inf</td><td style='text-align:right'>True</td></tr><tr><td style='text-align:left'>r0</td><td style='text-align:left'> 4.55253237</td><td style='text-align:left'> 1.9124e-15</td><td style='text-align:left'>(0.00%)</td><td style='text-align:left'>4.158843441821704</td><td style='text-align:left'> 0.00000000</td><td style='text-align:left'>        inf</td><td style='text-align:right'>True</td></tr><tr><td style='text-align:left'>theta0</td><td style='text-align:left'> 79.7219774</td><td style='text-align:left'> 1.2303e-14</td><td style='text-align:left'>(0.00%)</td><td style='text-align:left'>80.18270631730437</td><td style='text-align:left'> 0.00000000</td><td style='text-align:left'> 360.000000</td><td style='text-align:right'>True</td></tr><tr><td style='text-align:left'>eccentricity</td><td style='text-align:left'> 0.81790192</td><td style='text-align:left'> 9.9505e-17</td><td style='text-align:left'>(0.00%)</td><td style='text-align:left'>1.0</td><td style='text-align:left'> 0.00000000</td><td style='text-align:left'>        inf</td><td style='text-align:right'>True</td></tr></table><table class=\"jp-toc-ignore\"><caption>Correlations (unreported values are < 0.100)</caption><tr><th style='text-align:left'>Parameter1</th><th style='text-align:left'>Parameter 2</th><th style='text-align:right'>Correlation</th></tr><tr><td style='text-align:left'>r0</td><td style='text-align:left'>eccentricity</td><td style='text-align:right'>-0.9382</td></tr><tr><td style='text-align:left'>y0</td><td style='text-align:left'>r0</td><td style='text-align:right'>-0.9221</td></tr><tr><td style='text-align:left'>x0</td><td style='text-align:left'>theta0</td><td style='text-align:right'>-0.8411</td></tr><tr><td style='text-align:left'>y0</td><td style='text-align:left'>eccentricity</td><td style='text-align:right'>+0.8409</td></tr><tr><td style='text-align:left'>x0</td><td style='text-align:left'>r0</td><td style='text-align:right'>-0.1665</td></tr><tr><td style='text-align:left'>y0</td><td style='text-align:left'>theta0</td><td style='text-align:right'>+0.1532</td></tr><tr><td style='text-align:left'>x0</td><td style='text-align:left'>eccentricity</td><td style='text-align:right'>+0.1518</td></tr></table>"
      ],
      "text/plain": [
       "<lmfit.minimizer.MinimizerResult at 0x1411be3a0>"
      ]
     },
     "execution_count": 15,
     "metadata": {},
     "output_type": "execute_result"
    }
   ],
   "source": [
    "confit.fit_conic_to_xy(best_xy.x_pts, best_xy.y_pts, only_parabola=False)"
   ]
  },
  {
   "cell_type": "code",
   "execution_count": null,
   "id": "a9a6ad3c-10cf-4cfb-b1d5-162203868801",
   "metadata": {},
   "outputs": [],
   "source": []
  }
 ],
 "metadata": {
  "kernelspec": {
   "display_name": "Python 3 (ipykernel)",
   "language": "python",
   "name": "python3"
  },
  "language_info": {
   "codemirror_mode": {
    "name": "ipython",
    "version": 3
   },
   "file_extension": ".py",
   "mimetype": "text/x-python",
   "name": "python",
   "nbconvert_exporter": "python",
   "pygments_lexer": "ipython3",
   "version": "3.9.9"
  }
 },
 "nbformat": 4,
 "nbformat_minor": 5
}
