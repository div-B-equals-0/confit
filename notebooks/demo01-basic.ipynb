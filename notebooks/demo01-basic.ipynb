{
 "cells": [
  {
   "cell_type": "markdown",
   "id": "466157e1-110e-46a3-9a4b-f8c62395759e",
   "metadata": {},
   "source": [
    "# Demonstrate basic functionality of confit"
   ]
  },
  {
   "cell_type": "markdown",
   "id": "f49f8cc0-efec-4c5a-81b8-4638a88385f6",
   "metadata": {},
   "source": [
    "## Imports\n",
    "\n",
    "We need to explictly add the path to the library since we haven't installed it yet. "
   ]
  },
  {
   "cell_type": "code",
   "execution_count": 1,
   "id": "ab5605ba-2b7b-448d-8402-c8e173ada869",
   "metadata": {},
   "outputs": [],
   "source": [
    "import sys\n",
    "sys.path.append('../src')\n",
    "import confit\n",
    "import numpy as np\n",
    "import lmfit\n",
    "from matplotlib import pyplot as plt\n",
    "import seaborn as sns"
   ]
  },
  {
   "cell_type": "markdown",
   "id": "0f0265fb-e620-4895-b9f6-540db2932eda",
   "metadata": {},
   "source": [
    "Check that we have the right module"
   ]
  },
  {
   "cell_type": "code",
   "execution_count": 2,
   "id": "cc5dab78-78d2-4e1f-81d4-e192a1d6d113",
   "metadata": {},
   "outputs": [
    {
     "data": {
      "text/plain": [
       "\u001b[0;31mType:\u001b[0m        module\n",
       "\u001b[0;31mString form:\u001b[0m <module 'confit' from '/Users/will/Dropbox/confit/notebooks/../src/confit.py'>\n",
       "\u001b[0;31mFile:\u001b[0m        ~/Dropbox/confit/src/confit.py\n",
       "\u001b[0;31mDocstring:\u001b[0m   Fit conic section curves to data."
      ]
     },
     "metadata": {},
     "output_type": "display_data"
    }
   ],
   "source": [
    "confit?"
   ]
  },
  {
   "cell_type": "markdown",
   "id": "1ba71acd-9a39-4c3e-97e7-42b2b1b9fe28",
   "metadata": {},
   "source": [
    "## Test data\n",
    "\n",
    "Symmetric arrangement of 7 points, which I then stretch and distort to make it more interesting.  Using fewer than 7 points is not recommended, although it is possible to ge spectacularly small residuals that way!"
   ]
  },
  {
   "cell_type": "code",
   "execution_count": 46,
   "id": "377e218c-c0a9-4845-9e94-d889b38b37ab",
   "metadata": {},
   "outputs": [],
   "source": [
    "xpts, ypts = np.array([1, 2, 3, 4, 5, 6, 7]), np.array([0, 4, 6, 7, 6, 4, 0])\n",
    "ypts += xpts\n",
    "xpts *= 3"
   ]
  },
  {
   "cell_type": "markdown",
   "id": "ecc96711-9114-419b-b951-a0db7cc2b411",
   "metadata": {},
   "source": [
    "Plot the points"
   ]
  },
  {
   "cell_type": "code",
   "execution_count": 47,
   "id": "15b15d03-3941-427e-aa99-287ab2fed6ca",
   "metadata": {},
   "outputs": [
    {
     "data": {
      "image/png": "[encoded data removed]",
      "text/plain": [
       "<Figure size 640x480 with 1 Axes>"
      ]
     },
     "metadata": {},
     "output_type": "display_data"
    }
   ],
   "source": [
    "fig, ax = plt.subplots()\n",
    "ax.scatter(xpts, ypts)\n",
    "ax.set_aspect(\"equal\")\n",
    "...;"
   ]
  },
  {
   "cell_type": "markdown",
   "id": "18def3ca-2d24-48d7-943b-1cf38ace94ae",
   "metadata": {},
   "source": [
    "## Initial guess at conic parameters\n",
    "\n",
    "This is done automatically inside the fitting function, but we will do it explicitly so we can see what it is doing"
   ]
  },
  {
   "cell_type": "code",
   "execution_count": 69,
   "id": "1d236a45-d7fc-4ee9-a531-448672bb703c",
   "metadata": {},
   "outputs": [
    {
     "data": {
      "text/plain": [
       "{'x0': 12.0,\n",
       " 'y0': 9.0,\n",
       " 'r0': 4.279303547652316,\n",
       " 'theta0': 93.41881035763075,\n",
       " 'eccentricity': 1.0}"
      ]
     },
     "execution_count": 69,
     "metadata": {},
     "output_type": "execute_result"
    }
   ],
   "source": [
    "initial_conic = confit.init_conic_from_xy(xpts, ypts)\n",
    "initial_conic"
   ]
  },
  {
   "cell_type": "markdown",
   "id": "21728ae1-5224-426f-a217-0eb6e91364a3",
   "metadata": {},
   "source": [
    "Look at the residuals for this initial guess, which is\n",
    "$$\n",
    "r - e d\n",
    "$$\n",
    "where $r$ is the radius of each point from the focus and $d$ is the distance of each point from the directrix. \n",
    "\n",
    "We turn on DEBUG so that the residual function will print out the individual vectors, $r$, $d$, and $e \\times d$. "
   ]
  },
  {
   "cell_type": "code",
   "execution_count": 70,
   "id": "9b70c5c1-82ee-4b52-9d4e-83b8d5e0ff8b",
   "metadata": {},
   "outputs": [
    {
     "name": "stdout",
     "output_type": "stream",
     "text": [
      "r = [12.04159458  6.70820393  3.          2.          3.60555128  6.08276253\n",
      "  9.21954446]\n",
      "d = [16.00766267 11.19546344  8.37970481  6.56216649  6.74106877  7.91819136\n",
      " 11.09175456]\n",
      "e d = [16.00766267 11.19546344  8.37970481  6.56216649  6.74106877  7.91819136\n",
      " 11.09175456]\n"
     ]
    },
    {
     "data": {
      "text/plain": [
       "array([-3.96606809, -4.4872595 , -5.37970481, -4.56216649, -3.1355175 ,\n",
       "       -1.83542883, -1.8722101 ])"
      ]
     },
     "execution_count": 70,
     "metadata": {},
     "output_type": "execute_result"
    }
   ],
   "source": [
    "initial_params = lmfit.create_params(**initial_conic)\n",
    "confit.DEBUG = True\n",
    "confit.residual(initial_params, xpts, ypts)"
   ]
  },
  {
   "cell_type": "markdown",
   "id": "6ce36d5e-db97-4249-a741-b7a420ca8a7b",
   "metadata": {},
   "source": [
    "The residuals are all negative, meaning points are inside the conic. This suggests that `r0` is overestimated. "
   ]
  },
  {
   "cell_type": "markdown",
   "id": "613e56da-5058-4f18-adee-9e91fb8dd856",
   "metadata": {},
   "source": [
    "Turn the `DEBUG` flag back off."
   ]
  },
  {
   "cell_type": "code",
   "execution_count": 71,
   "id": "7fa730ef-2ce8-4ba1-8db0-039c5758e4ed",
   "metadata": {},
   "outputs": [],
   "source": [
    "confit.DEBUG = False"
   ]
  },
  {
   "cell_type": "markdown",
   "id": "d3f76099-0381-4d63-b49e-a8624d0ad214",
   "metadata": {},
   "source": [
    "## Do the fitting\n",
    "\n",
    "We first fit a parabola ($e = 1$) by setting `only_parabola=True`, which is not strictly necessary since it is the default. And then another fit of a general conic with `only_parabola=False` so that the eccentricity is allowed to vary. "
   ]
  },
  {
   "cell_type": "code",
   "execution_count": 51,
   "id": "3eb48520-4c73-4e8b-8d03-404e321fae8b",
   "metadata": {},
   "outputs": [],
   "source": [
    "result_p = confit.fit_conic_to_xy(xpts, ypts, only_parabola=True)\n",
    "result_e = confit.fit_conic_to_xy(xpts, ypts, only_parabola=False)"
   ]
  },
  {
   "cell_type": "markdown",
   "id": "0b828615-1551-4bcb-939d-8749478952df",
   "metadata": {},
   "source": [
    "Compare the two results"
   ]
  },
  {
   "cell_type": "code",
   "execution_count": 52,
   "id": "26377515-5b11-428d-8688-d6b98f92a7d2",
   "metadata": {},
   "outputs": [
    {
     "data": {
      "text/html": [
       "<h2>Fit Result</h2> <table class=\"jp-toc-ignore\"><caption class=\"jp-toc-ignore\">Fit Statistics</caption><tr><td style='text-align:left'>fitting method</td><td style='text-align:right'>leastsq</td></tr><tr><td style='text-align:left'># function evals</td><td style='text-align:right'>26</td></tr><tr><td style='text-align:left'># data points</td><td style='text-align:right'>7</td></tr><tr><td style='text-align:left'># variables</td><td style='text-align:right'>4</td></tr><tr><td style='text-align:left'>chi-square</td><td style='text-align:right'> 0.18117524</td></tr><tr><td style='text-align:left'>reduced chi-square</td><td style='text-align:right'> 0.06039175</td></tr><tr><td style='text-align:left'>Akaike info crit.</td><td style='text-align:right'>-17.5794048</td></tr><tr><td style='text-align:left'>Bayesian info crit.</td><td style='text-align:right'>-17.7957642</td></tr></table><table class=\"jp-toc-ignore\"><caption>Parameters</caption><tr><th style='text-align:left'>name</th><th style='text-align:left'>value</th><th style='text-align:left'>standard error</th><th style='text-align:left'>relative error</th><th style='text-align:left'>initial value</th><th style='text-align:left'>min</th><th style='text-align:left'>max</th><th style='text-align:right'>vary</th></tr><tr><td style='text-align:left'>x0</td><td style='text-align:left'> 13.9604323</td><td style='text-align:left'> 0.31535709</td><td style='text-align:left'>(2.26%)</td><td style='text-align:left'>12.0</td><td style='text-align:left'>       -inf</td><td style='text-align:left'>        inf</td><td style='text-align:right'>True</td></tr><tr><td style='text-align:left'>y0</td><td style='text-align:left'> 8.23028621</td><td style='text-align:left'> 0.21719266</td><td style='text-align:left'>(2.64%)</td><td style='text-align:left'>9.0</td><td style='text-align:left'>       -inf</td><td style='text-align:left'>        inf</td><td style='text-align:right'>True</td></tr><tr><td style='text-align:left'>r0</td><td style='text-align:left'> 2.98270890</td><td style='text-align:left'> 0.15103907</td><td style='text-align:left'>(5.06%)</td><td style='text-align:left'>4.279303547652316</td><td style='text-align:left'> 0.00000000</td><td style='text-align:left'>        inf</td><td style='text-align:right'>True</td></tr><tr><td style='text-align:left'>theta0</td><td style='text-align:left'> 90.1860042</td><td style='text-align:left'> 2.64713202</td><td style='text-align:left'>(2.94%)</td><td style='text-align:left'>93.41881035763075</td><td style='text-align:left'> 0.00000000</td><td style='text-align:left'> 360.000000</td><td style='text-align:right'>True</td></tr><tr><td style='text-align:left'>eccentricity</td><td style='text-align:left'> 1.00000000</td><td style='text-align:left'> 0.00000000</td><td style='text-align:left'>(0.00%)</td><td style='text-align:left'>1.0</td><td style='text-align:left'> 0.00000000</td><td style='text-align:left'>        inf</td><td style='text-align:right'>False</td></tr></table><table class=\"jp-toc-ignore\"><caption>Correlations (unreported values are < 0.100)</caption><tr><th style='text-align:left'>Parameter1</th><th style='text-align:left'>Parameter 2</th><th style='text-align:right'>Correlation</th></tr><tr><td style='text-align:left'>y0</td><td style='text-align:left'>r0</td><td style='text-align:right'>-0.9428</td></tr><tr><td style='text-align:left'>x0</td><td style='text-align:left'>theta0</td><td style='text-align:right'>-0.9271</td></tr><tr><td style='text-align:left'>r0</td><td style='text-align:left'>theta0</td><td style='text-align:right'>+0.5817</td></tr><tr><td style='text-align:left'>y0</td><td style='text-align:left'>theta0</td><td style='text-align:right'>-0.5134</td></tr><tr><td style='text-align:left'>x0</td><td style='text-align:left'>r0</td><td style='text-align:right'>-0.4388</td></tr><tr><td style='text-align:left'>x0</td><td style='text-align:left'>y0</td><td style='text-align:right'>+0.3861</td></tr></table>"
      ],
      "text/plain": [
       "<lmfit.minimizer.MinimizerResult at 0x13a075d90>"
      ]
     },
     "execution_count": 52,
     "metadata": {},
     "output_type": "execute_result"
    }
   ],
   "source": [
    "result_p"
   ]
  },
  {
   "cell_type": "code",
   "execution_count": 56,
   "id": "edf841fb-d9bd-4324-93a5-07beff9d4c75",
   "metadata": {},
   "outputs": [
    {
     "data": {
      "text/html": [
       "<h2>Fit Result</h2> <table class=\"jp-toc-ignore\"><caption class=\"jp-toc-ignore\">Fit Statistics</caption><tr><td style='text-align:left'>fitting method</td><td style='text-align:right'>leastsq</td></tr><tr><td style='text-align:left'># function evals</td><td style='text-align:right'>49</td></tr><tr><td style='text-align:left'># data points</td><td style='text-align:right'>7</td></tr><tr><td style='text-align:left'># variables</td><td style='text-align:right'>5</td></tr><tr><td style='text-align:left'>chi-square</td><td style='text-align:right'> 0.16724879</td></tr><tr><td style='text-align:left'>reduced chi-square</td><td style='text-align:right'> 0.08362439</td></tr><tr><td style='text-align:left'>Akaike info crit.</td><td style='text-align:right'>-16.1392808</td></tr><tr><td style='text-align:left'>Bayesian info crit.</td><td style='text-align:right'>-16.4097301</td></tr></table><table class=\"jp-toc-ignore\"><caption>Parameters</caption><tr><th style='text-align:left'>name</th><th style='text-align:left'>value</th><th style='text-align:left'>standard error</th><th style='text-align:left'>relative error</th><th style='text-align:left'>initial value</th><th style='text-align:left'>min</th><th style='text-align:left'>max</th><th style='text-align:right'>vary</th></tr><tr><td style='text-align:left'>x0</td><td style='text-align:left'> 14.1836372</td><td style='text-align:left'> 0.62232238</td><td style='text-align:left'>(4.39%)</td><td style='text-align:left'>12.0</td><td style='text-align:left'>       -inf</td><td style='text-align:left'>        inf</td><td style='text-align:right'>True</td></tr><tr><td style='text-align:left'>y0</td><td style='text-align:left'> 7.94433898</td><td style='text-align:left'> 0.70227002</td><td style='text-align:left'>(8.84%)</td><td style='text-align:left'>9.0</td><td style='text-align:left'>       -inf</td><td style='text-align:left'>        inf</td><td style='text-align:right'>True</td></tr><tr><td style='text-align:left'>r0</td><td style='text-align:left'> 3.24215163</td><td style='text-align:left'> 0.61612568</td><td style='text-align:left'>(19.00%)</td><td style='text-align:left'>4.279303547652316</td><td style='text-align:left'> 0.00000000</td><td style='text-align:left'>        inf</td><td style='text-align:right'>True</td></tr><tr><td style='text-align:left'>theta0</td><td style='text-align:left'> 87.8031870</td><td style='text-align:left'> 6.56584850</td><td style='text-align:left'>(7.48%)</td><td style='text-align:left'>93.41881035763075</td><td style='text-align:left'> 0.00000000</td><td style='text-align:left'> 360.000000</td><td style='text-align:right'>True</td></tr><tr><td style='text-align:left'>eccentricity</td><td style='text-align:left'> 0.93363817</td><td style='text-align:left'> 0.14810053</td><td style='text-align:left'>(15.86%)</td><td style='text-align:left'>1.0</td><td style='text-align:left'> 0.00000000</td><td style='text-align:left'>        inf</td><td style='text-align:right'>True</td></tr></table><table class=\"jp-toc-ignore\"><caption>Correlations (unreported values are < 0.100)</caption><tr><th style='text-align:left'>Parameter1</th><th style='text-align:left'>Parameter 2</th><th style='text-align:right'>Correlation</th></tr><tr><td style='text-align:left'>y0</td><td style='text-align:left'>r0</td><td style='text-align:right'>-0.9908</td></tr><tr><td style='text-align:left'>x0</td><td style='text-align:left'>theta0</td><td style='text-align:right'>-0.9701</td></tr><tr><td style='text-align:left'>r0</td><td style='text-align:left'>eccentricity</td><td style='text-align:right'>-0.9506</td></tr><tr><td style='text-align:left'>y0</td><td style='text-align:left'>eccentricity</td><td style='text-align:right'>+0.9279</td></tr><tr><td style='text-align:left'>theta0</td><td style='text-align:left'>eccentricity</td><td style='text-align:right'>+0.8303</td></tr><tr><td style='text-align:left'>x0</td><td style='text-align:left'>eccentricity</td><td style='text-align:right'>-0.7571</td></tr><tr><td style='text-align:left'>r0</td><td style='text-align:left'>theta0</td><td style='text-align:right'>-0.6780</td></tr><tr><td style='text-align:left'>y0</td><td style='text-align:left'>theta0</td><td style='text-align:right'>+0.6587</td></tr><tr><td style='text-align:left'>x0</td><td style='text-align:left'>r0</td><td style='text-align:right'>+0.6146</td></tr><tr><td style='text-align:left'>x0</td><td style='text-align:left'>y0</td><td style='text-align:right'>-0.5994</td></tr></table>"
      ],
      "text/plain": [
       "<lmfit.minimizer.MinimizerResult at 0x13a2309a0>"
      ]
     },
     "execution_count": 56,
     "metadata": {},
     "output_type": "execute_result"
    }
   ],
   "source": [
    "result_e"
   ]
  },
  {
   "cell_type": "markdown",
   "id": "8813c013-a0ee-4d0d-9ff5-bab4d4134311",
   "metadata": {},
   "source": [
    "So the best general conic fit is an ellipse with quite a high eccentricity. The scale `r0` (the distance from the focus to the apex) is quite similar to the initial guess, and so is the orientation `theta`. The position of the focus `x0, y0` has changed a bit though. \n",
    "\n",
    "There is very little difference between the parameters of the parabola fit and the general conic fit. The chi-square is slightly lower for the general fit. But the number of degrees of freedom is lower bbecause of the ectra parameter, so the reduced chi-square is larger. This means that there is little justification for using the general conic in this case. \n",
    "\n",
    "On the other hand, the uncertainty on the angle and radius are significantly higher for the general fit, which might be more realistic. These uncertainties are calculated from the Hessian matrix and are not necessarily accurate, since we are not using any real errors in the data points. We will get better estimate of parameter uncertainties from MCMC later.\n",
    "\n",
    "There are some significant correlations between parameters, whic is also better studied via MCMC.\n",
    "\n",
    "Look at the residuals:"
   ]
  },
  {
   "cell_type": "code",
   "execution_count": 57,
   "id": "e4f18117-c418-4b13-9d66-944d2e345437",
   "metadata": {},
   "outputs": [
    {
     "data": {
      "text/plain": [
       "array([-0.0296571 ,  0.09711225, -0.15980899,  0.20396404, -0.24071291,\n",
       "        0.2013874 , -0.07228469])"
      ]
     },
     "execution_count": 57,
     "metadata": {},
     "output_type": "execute_result"
    }
   ],
   "source": [
    "result_p.residual"
   ]
  },
  {
   "cell_type": "code",
   "execution_count": 58,
   "id": "9a4d30e9-53a9-4294-8a31-1e8e9a686b67",
   "metadata": {},
   "outputs": [
    {
     "data": {
      "text/plain": [
       "array([ 0.0161262 ,  0.03544031, -0.17974213,  0.25919502, -0.22631378,\n",
       "        0.12005226, -0.02475789])"
      ]
     },
     "execution_count": 58,
     "metadata": {},
     "output_type": "execute_result"
    }
   ],
   "source": [
    "result_e.residual"
   ]
  },
  {
   "cell_type": "code",
   "execution_count": 79,
   "id": "30e2ce68-02b0-45c9-b222-e9c94eba5327",
   "metadata": {},
   "outputs": [
    {
     "data": {
      "image/png": "[encoded data removed]",
      "text/plain": [
       "<Figure size 400x300 with 1 Axes>"
      ]
     },
     "metadata": {},
     "output_type": "display_data"
    }
   ],
   "source": [
    "fig, ax = plt.subplots(figsize=(4, 3))\n",
    "ax.plot(result_p.residual, \"-o\")\n",
    "ax.plot(result_e.residual, \"-o\")\n",
    "ax.axhline(0, color=\"k\", lw=0.5)\n",
    "ax.set(\n",
    "    xlabel=\"data point #\",\n",
    "    ylabel=r\"residual: $r - e \\times d$\",\n",
    ")\n",
    "...;"
   ]
  },
  {
   "cell_type": "markdown",
   "id": "d0727417-7587-42d9-a6db-520e3ff2c556",
   "metadata": {},
   "source": [
    "This shows that the general conic (orange) fits slightly better in the wings (data points 1, 2, 5, 6) but the residuals are much larger around the apex, and no smooth curve could do anything to improve that. \n",
    "\n",
    "Now look at the distances that go into the residuals. "
   ]
  },
  {
   "cell_type": "code",
   "execution_count": 59,
   "id": "371f0a41-7a88-40c4-a26c-8e19c82425a4",
   "metadata": {},
   "outputs": [
    {
     "name": "stdout",
     "output_type": "stream",
     "text": [
      "r = [13.13042709  8.26696193  5.01979564  3.39331835  2.95838054  4.41021471\n",
      "  7.14626595]\n",
      "d = [13.1600842   8.16984968  5.17960463  3.18935431  3.19909344  4.20882731\n",
      "  7.21855064]\n",
      "e d = [13.1600842   8.16984968  5.17960463  3.18935431  3.19909344  4.20882731\n",
      "  7.21855064]\n"
     ]
    }
   ],
   "source": [
    "confit.DEBUG = True\n",
    "confit.residual(result_p.params, xpts, ypts)\n",
    "confit.DEBUG = False"
   ]
  },
  {
   "cell_type": "code",
   "execution_count": 60,
   "id": "58b87036-b0fa-4fce-8c0b-75d9c6e4e082",
   "metadata": {},
   "outputs": [
    {
     "name": "stdout",
     "output_type": "stream",
     "text": [
      "r = [13.16425405  8.4114429   5.2900392   3.75570708  3.16283299  4.33478573\n",
      "  6.88146627]\n",
      "d = [14.08268028  8.97135835  5.85856652  3.74503974  3.63004307  4.51431144\n",
      "  7.39710991]\n",
      "e d = [13.14812785  8.37600259  5.46978133  3.49651205  3.38914677  4.21473347\n",
      "  6.90622416]\n"
     ]
    }
   ],
   "source": [
    "confit.DEBUG = True\n",
    "confit.residual(result_e.params, xpts, ypts)\n",
    "confit.DEBUG = False"
   ]
  },
  {
   "cell_type": "markdown",
   "id": "e514145e-d85a-4946-970c-4f765be93848",
   "metadata": {},
   "source": [
    "This was more informative for an earlier version of this demo. "
   ]
  },
  {
   "cell_type": "markdown",
   "id": "2a8d9276-20f3-449f-9f1c-bfcd0e1f514d",
   "metadata": {},
   "source": [
    "## Plotting the best fit onto the data"
   ]
  },
  {
   "cell_type": "code",
   "execution_count": 80,
   "id": "84833dba-9ad3-4d73-b3ed-f28d13b0a942",
   "metadata": {},
   "outputs": [
    {
     "name": "stdout",
     "output_type": "stream",
     "text": [
      "Conic section curve with focus at (13.960432334044226, 8.230286213583247), scale factor 2.9827089019390476, angle 90.18600416021702, and eccentricity 1.0.\n"
     ]
    }
   ],
   "source": [
    "bestp_xy = confit.XYconic(**result_p.params.valuesdict())\n",
    "print(bestp_xy)"
   ]
  },
  {
   "cell_type": "code",
   "execution_count": 81,
   "id": "09b29f24-855a-43e8-9cd8-43fce5343d36",
   "metadata": {},
   "outputs": [
    {
     "name": "stdout",
     "output_type": "stream",
     "text": [
      "Conic section curve with focus at (14.18363719013874, 7.944338980262408), scale factor 3.2421516308125664, angle 87.80318702374163, and eccentricity 0.9336381700260046.\n"
     ]
    }
   ],
   "source": [
    "beste_xy = confit.XYconic(**result_e.params.valuesdict())\n",
    "print(beste_xy)"
   ]
  },
  {
   "cell_type": "code",
   "execution_count": 82,
   "id": "af4acd4e-8958-4e11-a192-188a1fe50bc2",
   "metadata": {},
   "outputs": [
    {
     "name": "stdout",
     "output_type": "stream",
     "text": [
      "Conic section curve with focus at (12.0, 9.0), scale factor 4.279303547652316, angle 93.41881035763075, and eccentricity 1.0.\n"
     ]
    }
   ],
   "source": [
    "init_xy = confit.XYconic(**initial_conic)\n",
    "print(init_xy)"
   ]
  },
  {
   "cell_type": "code",
   "execution_count": 83,
   "id": "fa428713-eed7-41ed-bcfd-0824668f1a0f",
   "metadata": {
    "lines_to_next_cell": 0
   },
   "outputs": [
    {
     "data": {
      "image/png": "[encoded data removed]",
      "text/plain": [
       "<Figure size 640x480 with 1 Axes>"
      ]
     },
     "metadata": {},
     "output_type": "display_data"
    }
   ],
   "source": [
    "fig, ax = plt.subplots()\n",
    "ax.scatter(xpts, ypts)\n",
    "\n",
    "c = \"orange\"\n",
    "ax.plot(bestp_xy.x_pts, bestp_xy.y_pts, color=c)\n",
    "ax.scatter(bestp_xy.x0, bestp_xy.y0, marker=\"+\", color=c)\n",
    "ax.plot([bestp_xy.x0, bestp_xy.x_mirror], [bestp_xy.y0, bestp_xy.y_mirror], color=c)\n",
    "\n",
    "c = \"m\"\n",
    "ax.plot(beste_xy.x_pts, beste_xy.y_pts, color=c)\n",
    "ax.scatter(beste_xy.x0, beste_xy.y0, marker=\"+\", color=c)\n",
    "ax.plot([beste_xy.x0, beste_xy.x_mirror], [beste_xy.y0, beste_xy.y_mirror], color=c)\n",
    "\n",
    "c = \"0.8\"\n",
    "ax.plot(init_xy.x_pts, init_xy.y_pts, color=c)\n",
    "ax.scatter(init_xy.x0, init_xy.y0, marker=\"+\", color=c)\n",
    "ax.plot([init_xy.x0, init_xy.x_mirror], [init_xy.y0, init_xy.y_mirror], color=c)\n",
    "\n",
    "ax.set_aspect(\"equal\")\n",
    "margin = 8\n",
    "ax.set(\n",
    "    xlim=[xpts.min() - margin, xpts.max() + margin],\n",
    "    ylim=[ypts.min() - margin, ypts.max() + margin],\n",
    ")\n",
    "...;"
   ]
  },
  {
   "cell_type": "code",
   "execution_count": null,
   "id": "f42a5a65-0129-4099-bf01-49b6c2a1d3d1",
   "metadata": {},
   "outputs": [],
   "source": []
  }
 ],
 "metadata": {
  "jupytext": {
   "formats": "ipynb,py:light"
  },
  "kernelspec": {
   "display_name": "Python 3 (ipykernel)",
   "language": "python",
   "name": "python3"
  },
  "language_info": {
   "codemirror_mode": {
    "name": "ipython",
    "version": 3
   },
   "file_extension": ".py",
   "mimetype": "text/x-python",
   "name": "python",
   "nbconvert_exporter": "python",
   "pygments_lexer": "ipython3",
   "version": "3.9.9"
  }
 },
 "nbformat": 4,
 "nbformat_minor": 5
}
