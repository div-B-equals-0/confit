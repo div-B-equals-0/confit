{
 "cells": [
  {
   "cell_type": "markdown",
   "id": "2e04a0bc-e266-44ca-b184-07b16de3e58c",
   "metadata": {},
   "source": [
    "# Fit conic to real data from proplyd arcs\n",
    "\n",
    "We will use the same data that we used in Tarango Yong & Henney (2018) to demonstrate the circle-fit algorithm.\n",
    "\n"
   ]
  },
  {
   "cell_type": "markdown",
   "id": "6d48dd31-3129-4b9e-aeb4-eb8ca9aa515c",
   "metadata": {},
   "source": [
    "## Imports"
   ]
  },
  {
   "cell_type": "code",
   "execution_count": 1,
   "id": "368d4ee9-3511-48d0-8008-17b3d63a9e59",
   "metadata": {},
   "outputs": [],
   "source": [
    "import time"
   ]
  },
  {
   "cell_type": "code",
   "execution_count": 2,
   "id": "c2ab6f94",
   "metadata": {},
   "outputs": [],
   "source": [
    "start_time = time.time()\n",
    "import sys\n",
    "from pathlib import Path"
   ]
  },
  {
   "cell_type": "code",
   "execution_count": 3,
   "id": "344f41c8",
   "metadata": {},
   "outputs": [],
   "source": [
    "sys.path.append(\"../src\")\n",
    "import confit\n",
    "import numpy as np\n",
    "import lmfit\n",
    "from matplotlib import pyplot as plt\n",
    "import seaborn as sns\n",
    "import regions as rg\n",
    "from astropy.wcs import WCS\n",
    "from astropy.coordinates import SkyCoord"
   ]
  },
  {
   "cell_type": "code",
   "execution_count": 4,
   "id": "f2172966",
   "metadata": {},
   "outputs": [],
   "source": [
    "sns.set_context(\"notebook\", font_scale=1.2)"
   ]
  },
  {
   "cell_type": "markdown",
   "id": "5f512a75-5e6d-4f34-b62c-f865f26c5126",
   "metadata": {},
   "source": [
    "## Set up the arc data"
   ]
  },
  {
   "cell_type": "code",
   "execution_count": 5,
   "id": "39f38a58-0ac4-4534-8a44-60158733ce52",
   "metadata": {
    "lines_to_next_cell": 2
   },
   "outputs": [],
   "source": [
    "datapath = Path.cwd().parent / \"data\"\n",
    "figpath = Path.cwd().parent / \"figs\"\n",
    "saveprefix = \"demo03\""
   ]
  },
  {
   "cell_type": "markdown",
   "id": "fce51f7a-e9cf-4326-a0f1-0fef02ed011f",
   "metadata": {
    "lines_to_next_cell": 2
   },
   "source": [
    "### Read arc points in celestial coordinates from DS9-format regions file\n",
    "\n",
    "This function is copied over from the circle-fit project with some updates to reflect more recent API changes"
   ]
  },
  {
   "cell_type": "code",
   "execution_count": 15,
   "id": "3ab37d0d-f7cd-48e4-ac87-90c7438f2d32",
   "metadata": {},
   "outputs": [],
   "source": [
    "def read_arc_data_ds9(filename, pt_star=\"o\", pt_arc=\"x\"):\n",
    "    \"\"\"\n",
    "    Return the sky coordinates of a star (single point of type\n",
    "    `pt_star`) and arc (multiple points of type: `pt_arc`), which are\n",
    "    read from the DS9 region file `filename`\n",
    "    \"\"\"\n",
    "    regions = rg.Regions.read(filename)\n",
    "\n",
    "    try:\n",
    "        (star,) = [x for x in regions if x.visual[\"marker\"] == pt_star]\n",
    "    except IndexError:\n",
    "        sys.exit(\"One and only one 'circle' region is required\")\n",
    "    points = [x for x in regions if x.visual[\"marker\"] == pt_arc]\n",
    "    return star, points"
   ]
  },
  {
   "cell_type": "code",
   "execution_count": 16,
   "id": "bb897558-bbc1-4506-94c4-bb589cfa989e",
   "metadata": {},
   "outputs": [],
   "source": [
    "filename = datapath / \"new-069-601-ridge.reg\"\n",
    "regions = rg.Regions.read(filename)"
   ]
  },
  {
   "cell_type": "code",
   "execution_count": 10,
   "id": "771aec00-14c5-4e25-940b-035acb6bb3d0",
   "metadata": {},
   "outputs": [
    {
     "data": {
      "text/plain": [
       "{'select': 1,\n",
       " 'highlite': 1,\n",
       " 'fixed': 0,\n",
       " 'edit': 1,\n",
       " 'move': 1,\n",
       " 'delete': 1,\n",
       " 'include': 1,\n",
       " 'source': 1}"
      ]
     },
     "execution_count": 10,
     "metadata": {},
     "output_type": "execute_result"
    }
   ],
   "source": [
    "regions[0].meta"
   ]
  },
  {
   "cell_type": "code",
   "execution_count": 11,
   "id": "ad4f1cd7-f516-44e9-ac02-0f2891ba5f5b",
   "metadata": {},
   "outputs": [
    {
     "data": {
      "text/plain": [
       "{'color': 'green',\n",
       " 'default_style': 'ds9',\n",
       " 'marker': 'o',\n",
       " 'fontname': 'helvetica',\n",
       " 'fontsize': 10,\n",
       " 'fontweight': 'normal',\n",
       " 'fontstyle': 'normal',\n",
       " 'markeredgewidth': 1}"
      ]
     },
     "execution_count": 11,
     "metadata": {},
     "output_type": "execute_result"
    }
   ],
   "source": [
    "regions[0].visual"
   ]
  },
  {
   "cell_type": "code",
   "execution_count": 12,
   "id": "01cd9200-4126-4508-a022-607e32076b2d",
   "metadata": {},
   "outputs": [
    {
     "data": {
      "text/plain": [
       "{'color': 'green',\n",
       " 'default_style': 'ds9',\n",
       " 'marker': 'x',\n",
       " 'fontname': 'helvetica',\n",
       " 'fontsize': 10,\n",
       " 'fontweight': 'normal',\n",
       " 'fontstyle': 'normal',\n",
       " 'markeredgewidth': 1}"
      ]
     },
     "execution_count": 12,
     "metadata": {},
     "output_type": "execute_result"
    }
   ],
   "source": [
    "regions[1].visual"
   ]
  },
  {
   "cell_type": "code",
   "execution_count": 7,
   "id": "2190df71-82f6-47f3-8d01-a862473b44bb",
   "metadata": {},
   "outputs": [
    {
     "ename": "KeyError",
     "evalue": "'symbol'",
     "output_type": "error",
     "traceback": [
      "\u001b[0;31m---------------------------------------------------------------------------\u001b[0m",
      "\u001b[0;31mKeyError\u001b[0m                                  Traceback (most recent call last)",
      "Cell \u001b[0;32mIn[7], line 1\u001b[0m\n\u001b[0;32m----> 1\u001b[0m star, points \u001b[38;5;241m=\u001b[39m \u001b[43mread_arc_data_ds9\u001b[49m\u001b[43m(\u001b[49m\u001b[43mdatapath\u001b[49m\u001b[43m \u001b[49m\u001b[38;5;241;43m/\u001b[39;49m\u001b[43m \u001b[49m\u001b[38;5;124;43m\"\u001b[39;49m\u001b[38;5;124;43mnew-069-601-ridge.reg\u001b[39;49m\u001b[38;5;124;43m\"\u001b[39;49m\u001b[43m)\u001b[49m\n",
      "Cell \u001b[0;32mIn[6], line 10\u001b[0m, in \u001b[0;36mread_arc_data_ds9\u001b[0;34m(filename, pt_star, pt_arc)\u001b[0m\n\u001b[1;32m      7\u001b[0m regions \u001b[38;5;241m=\u001b[39m rg\u001b[38;5;241m.\u001b[39mRegions\u001b[38;5;241m.\u001b[39mread(filename)\n\u001b[1;32m      9\u001b[0m \u001b[38;5;28;01mtry\u001b[39;00m:\n\u001b[0;32m---> 10\u001b[0m     (star,) \u001b[38;5;241m=\u001b[39m [x \u001b[38;5;28;01mfor\u001b[39;00m x \u001b[38;5;129;01min\u001b[39;00m regions \u001b[38;5;28;01mif\u001b[39;00m x\u001b[38;5;241m.\u001b[39mvisual[\u001b[38;5;124m\"\u001b[39m\u001b[38;5;124mpoint\u001b[39m\u001b[38;5;124m\"\u001b[39m] \u001b[38;5;241m==\u001b[39m pt_star]\n\u001b[1;32m     11\u001b[0m \u001b[38;5;28;01mexcept\u001b[39;00m \u001b[38;5;167;01mIndexError\u001b[39;00m:\n\u001b[1;32m     12\u001b[0m     sys\u001b[38;5;241m.\u001b[39mexit(\u001b[38;5;124m\"\u001b[39m\u001b[38;5;124mOne and only one \u001b[39m\u001b[38;5;124m'\u001b[39m\u001b[38;5;124mcircle\u001b[39m\u001b[38;5;124m'\u001b[39m\u001b[38;5;124m region is required\u001b[39m\u001b[38;5;124m\"\u001b[39m)\n",
      "Cell \u001b[0;32mIn[6], line 10\u001b[0m, in \u001b[0;36m<listcomp>\u001b[0;34m(.0)\u001b[0m\n\u001b[1;32m      7\u001b[0m regions \u001b[38;5;241m=\u001b[39m rg\u001b[38;5;241m.\u001b[39mRegions\u001b[38;5;241m.\u001b[39mread(filename)\n\u001b[1;32m      9\u001b[0m \u001b[38;5;28;01mtry\u001b[39;00m:\n\u001b[0;32m---> 10\u001b[0m     (star,) \u001b[38;5;241m=\u001b[39m [x \u001b[38;5;28;01mfor\u001b[39;00m x \u001b[38;5;129;01min\u001b[39;00m regions \u001b[38;5;28;01mif\u001b[39;00m \u001b[43mx\u001b[49m\u001b[38;5;241;43m.\u001b[39;49m\u001b[43mvisual\u001b[49m\u001b[43m[\u001b[49m\u001b[38;5;124;43m\"\u001b[39;49m\u001b[38;5;124;43mpoint\u001b[39;49m\u001b[38;5;124;43m\"\u001b[39;49m\u001b[43m]\u001b[49m \u001b[38;5;241m==\u001b[39m pt_star]\n\u001b[1;32m     11\u001b[0m \u001b[38;5;28;01mexcept\u001b[39;00m \u001b[38;5;167;01mIndexError\u001b[39;00m:\n\u001b[1;32m     12\u001b[0m     sys\u001b[38;5;241m.\u001b[39mexit(\u001b[38;5;124m\"\u001b[39m\u001b[38;5;124mOne and only one \u001b[39m\u001b[38;5;124m'\u001b[39m\u001b[38;5;124mcircle\u001b[39m\u001b[38;5;124m'\u001b[39m\u001b[38;5;124m region is required\u001b[39m\u001b[38;5;124m\"\u001b[39m)\n",
      "File \u001b[0;32m~/miniconda3/envs/py39/lib/python3.9/site-packages/regions/core/metadata.py:42\u001b[0m, in \u001b[0;36mMeta.__getitem__\u001b[0;34m(self, item)\u001b[0m\n\u001b[1;32m     40\u001b[0m \u001b[38;5;28;01mdef\u001b[39;00m \u001b[38;5;21m__getitem__\u001b[39m(\u001b[38;5;28mself\u001b[39m, item):\n\u001b[1;32m     41\u001b[0m     item \u001b[38;5;241m=\u001b[39m \u001b[38;5;28mself\u001b[39m\u001b[38;5;241m.\u001b[39mkey_mapping\u001b[38;5;241m.\u001b[39mget(item, item)\n\u001b[0;32m---> 42\u001b[0m     \u001b[38;5;28;01mreturn\u001b[39;00m \u001b[38;5;28;43msuper\u001b[39;49m\u001b[43m(\u001b[49m\u001b[43m)\u001b[49m\u001b[38;5;241;43m.\u001b[39;49m\u001b[38;5;21;43m__getitem__\u001b[39;49m\u001b[43m(\u001b[49m\u001b[43mitem\u001b[49m\u001b[43m)\u001b[49m\n",
      "\u001b[0;31mKeyError\u001b[0m: 'symbol'"
     ]
    }
   ],
   "source": [
    "star, points = read_arc_data_ds9(datapath / \"new-069-601-ridge.reg\")"
   ]
  },
  {
   "cell_type": "code",
   "execution_count": null,
   "id": "c947e50d-4570-4b18-a646-f2c6d730ce6d",
   "metadata": {},
   "outputs": [],
   "source": [
    "star.center"
   ]
  },
  {
   "cell_type": "markdown",
   "id": "b2ce878c-1f8b-426c-ae6b-a21809789c40",
   "metadata": {},
   "source": [
    "### Convert to Cartesian x, y pixel coordinates\n",
    "\n",
    "We use a WCS transformation to put the arc in simple x, y coordinates so we do not need to worry about any astro stuff for a while. We could get the WCS from a fits image header, but instead we will just construct a grid centered on the star with 0.1 arcsec pixels.\n"
   ]
  },
  {
   "cell_type": "code",
   "execution_count": null,
   "id": "2e6cec34-2d6e-4e4b-8dd5-59efe13b8987",
   "metadata": {},
   "outputs": [],
   "source": [
    "w = WCS(naxis=2)\n",
    "w.wcs.crpix = [0, 0]\n",
    "w.wcs.cdelt = np.array([-0.1, 0.1]) / 3600\n",
    "w.wcs.crval = [star.center.ra.deg, star.center.dec.deg]\n",
    "w.wcs.ctype = [\"RA---TAN\", \"DEC--TAN\"]\n",
    "w"
   ]
  },
  {
   "cell_type": "code",
   "execution_count": null,
   "id": "442a66c5-aff5-4cd7-979b-1f8267b9fcec",
   "metadata": {},
   "outputs": [],
   "source": [
    "xpts, ypts = SkyCoord([point.center for point in points]).to_pixel(w)"
   ]
  },
  {
   "cell_type": "markdown",
   "id": "7962685b-478b-4b42-847d-1eee220fdc6f",
   "metadata": {},
   "source": [
    "## Plot the points"
   ]
  },
  {
   "cell_type": "code",
   "execution_count": null,
   "id": "7f996501-a427-4a75-a24c-d01932cfcbc8",
   "metadata": {},
   "outputs": [],
   "source": [
    "fig, ax = plt.subplots()\n",
    "ax.scatter(xpts, ypts)\n",
    "ax.set_aspect(\"equal\")\n",
    "..."
   ]
  },
  {
   "cell_type": "markdown",
   "id": "63211281-eee4-41b7-a6a4-ee632b4c770b",
   "metadata": {},
   "source": [
    "## Fit the arc"
   ]
  },
  {
   "cell_type": "code",
   "execution_count": null,
   "id": "b02b0204-b7fb-4857-98ac-0cce88c77a0b",
   "metadata": {},
   "outputs": [],
   "source": [
    "result_p = confit.fit_conic_to_xy(xpts, ypts, only_parabola=True)\n",
    "result_e = confit.fit_conic_to_xy(xpts, ypts, only_parabola=False)"
   ]
  },
  {
   "cell_type": "code",
   "execution_count": null,
   "id": "618fc233-7016-4b73-89d0-0bc2cb258c7d",
   "metadata": {},
   "outputs": [],
   "source": [
    "result_e"
   ]
  },
  {
   "cell_type": "code",
   "execution_count": null,
   "id": "fb0c418e-a392-4fc9-9775-a41fc29063e2",
   "metadata": {},
   "outputs": [],
   "source": [
    "beste_xy = confit.XYconic(**result_e.params.valuesdict())\n",
    "print(beste_xy)\n",
    "bestp_xy = confit.XYconic(**result_p.params.valuesdict())\n",
    "print(bestp_xy)"
   ]
  },
  {
   "cell_type": "code",
   "execution_count": null,
   "id": "0a378e36-8575-4885-b0c9-8f0f2a5a2512",
   "metadata": {},
   "outputs": [],
   "source": [
    "fig, ax = plt.subplots()\n",
    "ax.scatter(xpts, ypts)\n",
    "\n",
    "for xy, c in [[bestp_xy, \"orange\"], [beste_xy, \"m\"]]:\n",
    "    ax.plot(xy.x_pts, xy.y_pts, color=c)\n",
    "    ax.scatter(xy.x0, xy.y0, marker=\"+\", color=c)\n",
    "    ax.plot([xy.x0, xy.x_mirror], [xy.y0, xy.y_mirror], color=c)\n",
    "\n",
    "ax.axhline(0, lw=0.5, c=\"k\")\n",
    "ax.axvline(0, lw=0.5, c=\"k\")\n",
    "ax.set_aspect(\"equal\")\n",
    "margin = 8\n",
    "ax.set(\n",
    "    xlim=[xpts.min() - margin, xpts.max() + margin],\n",
    "    ylim=[ypts.min() - margin, ypts.max() + margin],\n",
    ")\n",
    "...;"
   ]
  },
  {
   "cell_type": "code",
   "execution_count": null,
   "id": "8d694071-eb1a-4b0c-bb39-b6055d605aea",
   "metadata": {},
   "outputs": [],
   "source": [
    "fig.savefig(figpath / f\"{saveprefix}-best-fits.pdf\", bbox_inches=\"tight\")"
   ]
  },
  {
   "cell_type": "code",
   "execution_count": null,
   "id": "dbdf187f-3643-405e-a5de-edd20652d5f7",
   "metadata": {
    "lines_to_next_cell": 2
   },
   "outputs": [],
   "source": [
    "fig, ax = plt.subplots(figsize=(4, 3))\n",
    "ax.plot(result_p.residual, \"-o\")\n",
    "ax.plot(result_e.residual, \"-o\")\n",
    "ax.axhline(0, color=\"k\", lw=0.5)\n",
    "ax.set(\n",
    "    xlabel=\"data point #\",\n",
    "    ylabel=r\"residual: $r - e \\times d$\",\n",
    ")\n",
    "...;"
   ]
  },
  {
   "cell_type": "code",
   "execution_count": null,
   "id": "dcacb563-63cd-43c7-a402-31dc4fae31a1",
   "metadata": {},
   "outputs": [],
   "source": [
    "fig.savefig(figpath / f\"{saveprefix}-residuals.pdf\", bbox_inches=\"tight\")"
   ]
  },
  {
   "cell_type": "markdown",
   "id": "164eabc8",
   "metadata": {},
   "source": [
    "## Calculate posterior probability of parameters with emcee\n",
    "\n"
   ]
  },
  {
   "cell_type": "code",
   "execution_count": null,
   "id": "a0b54b3b",
   "metadata": {},
   "outputs": [],
   "source": [
    "emcee_kws = dict(\n",
    "    steps=5000,\n",
    "    burn=1000,\n",
    "    thin=20,\n",
    "    is_weighted=False,\n",
    "    progress=False,\n",
    "    workers=16,\n",
    "    nan_policy=\"omit\",\n",
    ")\n",
    "emcee_params = result_e.params.copy()\n",
    "emcee_params.add(\"__lnsigma\", value=np.log(0.1), min=np.log(0.001), max=np.log(1.0))"
   ]
  },
  {
   "cell_type": "code",
   "execution_count": null,
   "id": "5ba8b25c",
   "metadata": {},
   "outputs": [],
   "source": [
    "result_emcee = lmfit.minimize(\n",
    "    confit.residual, args=(xpts, ypts), method=\"emcee\", params=emcee_params, **emcee_kws\n",
    ")"
   ]
  },
  {
   "cell_type": "code",
   "execution_count": null,
   "id": "f1f3c491",
   "metadata": {},
   "outputs": [],
   "source": [
    "result_emcee"
   ]
  },
  {
   "cell_type": "code",
   "execution_count": null,
   "id": "99f67c53",
   "metadata": {},
   "outputs": [],
   "source": [
    "plt.plot(result_emcee.acceptance_fraction, \"o\")\n",
    "plt.xlabel(\"walker\")\n",
    "plt.ylabel(\"acceptance fraction\")\n",
    "plt.show()"
   ]
  },
  {
   "cell_type": "code",
   "execution_count": null,
   "id": "a72981ef",
   "metadata": {},
   "outputs": [],
   "source": [
    "import corner\n",
    "\n",
    "emcee_plot = corner.corner(\n",
    "    result_emcee.flatchain,\n",
    "    labels=result_emcee.var_names,\n",
    "    truths=list(result_emcee.params.valuesdict().values()),\n",
    ")"
   ]
  },
  {
   "cell_type": "code",
   "execution_count": null,
   "id": "fa586b95-259b-482a-ab3b-ace985348fd1",
   "metadata": {},
   "outputs": [],
   "source": [
    "emcee_plot.savefig(figpath / f\"{saveprefix}-corner.pdf\", bbox_inches=\"tight\")"
   ]
  },
  {
   "cell_type": "code",
   "execution_count": null,
   "id": "d5661815-209b-4740-acad-43adc63a7b23",
   "metadata": {},
   "outputs": [],
   "source": [
    "best_xy = confit.XYconic(**result_e.params.valuesdict())\n",
    "chain_pars = result_emcee.flatchain.drop(columns=\"__lnsigma\").to_dict(\n",
    "    orient=\"records\"\n",
    ")\n",
    "chain_xy = [confit.XYconic(**row) for row in chain_pars[7::200]]"
   ]
  },
  {
   "cell_type": "code",
   "execution_count": null,
   "id": "2ae3daa0-b4ce-4c4d-9c24-f73ab49b0b1e",
   "metadata": {},
   "outputs": [],
   "source": [
    "len(chain_xy)"
   ]
  },
  {
   "cell_type": "code",
   "execution_count": null,
   "id": "9b50b2c0-57f1-4c0b-9c24-4f63317ee160",
   "metadata": {},
   "outputs": [],
   "source": [
    "import matplotlib as mpl\n",
    "cmap = mpl.cm.rainbow"
   ]
  },
  {
   "cell_type": "code",
   "execution_count": null,
   "id": "525fe741-b2c5-40a9-b337-560bafc11c38",
   "metadata": {},
   "outputs": [],
   "source": [
    "eparam = result_emcee.params[\"eccentricity\"]\n",
    "emin, emax = eparam.value - 2 * eparam.stderr, eparam.value + 2 * eparam.stderr\n",
    "norm = mpl.colors.Normalize(vmin=emin, vmax=emax)\n",
    "norm(1.0)"
   ]
  },
  {
   "cell_type": "code",
   "execution_count": null,
   "id": "56d401e8-034e-418c-9d42-b95256f8c7e7",
   "metadata": {},
   "outputs": [],
   "source": [
    "fig, axes = plt.subplots(1, 2, figsize=(12, 8))\n",
    "\n",
    "for ax in axes:\n",
    "    c = \"orange\"\n",
    "    ax.plot(best_xy.x_pts, best_xy.y_pts, color=c)\n",
    "    ax.scatter(best_xy.x0, best_xy.y0, marker=\"+\", color=c)\n",
    "    ax.plot([best_xy.x0, best_xy.x_mirror], [best_xy.y0, best_xy.y_mirror], color=c)\n",
    "\n",
    "    c = \"m\"\n",
    "    alpha = 0.1\n",
    "    for xy in chain_xy:\n",
    "        c = cmap(norm(xy.eccentricity))\n",
    "        ax.plot(xy.x_pts, xy.y_pts, color=c, alpha=alpha)\n",
    "        ax.scatter(xy.x0, xy.y0, marker=\"+\", color=c, alpha=alpha)\n",
    "        ax.plot([xy.x0, xy.x_mirror], [xy.y0, xy.y_mirror], color=c, alpha=alpha)\n",
    "    ax.scatter(xpts, ypts, zorder=1000)\n",
    "    ax.axhline(0, lw=0.5, c=\"k\")\n",
    "    ax.axvline(0, lw=0.5, c=\"k\")\n",
    "    ax.set_aspect(\"equal\")\n",
    "\n",
    "margin = 100\n",
    "axes[0].set(\n",
    "    xlim=[xpts.min() - margin, xpts.max() + margin],\n",
    "    ylim=[ypts.min() - margin, ypts.max() + margin],\n",
    ")\n",
    "margin = 10\n",
    "axes[1].set(\n",
    "    xlim=[xpts.min() - margin, xpts.max() + margin],\n",
    "    ylim=[ypts.min() - margin, ypts.max() + margin],\n",
    ")\n",
    "\n",
    "fig.colorbar(\n",
    "    mpl.cm.ScalarMappable(norm=norm, cmap=cmap),\n",
    "    ax=axes[1],\n",
    "    orientation=\"horizontal\",\n",
    "    label=\"eccentricity\",\n",
    ")\n",
    "...;"
   ]
  },
  {
   "cell_type": "code",
   "execution_count": null,
   "id": "9a374f0d-2bc5-4386-9e3e-f1e4c6f9ae39",
   "metadata": {},
   "outputs": [],
   "source": [
    "fig.savefig(figpath / f\"{saveprefix}-emcee-samples.pdf\", bbox_inches=\"tight\")"
   ]
  },
  {
   "cell_type": "markdown",
   "id": "c9287ea6-d1ac-4638-979e-5d2f51d0bacd",
   "metadata": {},
   "source": [
    "## Execution time for notebook"
   ]
  },
  {
   "cell_type": "code",
   "execution_count": null,
   "id": "9d72fa00-f540-4f24-83c6-622415e69fe4",
   "metadata": {},
   "outputs": [],
   "source": [
    "print(f\"--- {time.time() - start_time} seconds ---\")"
   ]
  }
 ],
 "metadata": {
  "jupytext": {
   "formats": "ipynb,py:light"
  },
  "kernelspec": {
   "display_name": "Python 3 (ipykernel)",
   "language": "python",
   "name": "python3"
  },
  "language_info": {
   "codemirror_mode": {
    "name": "ipython",
    "version": 3
   },
   "file_extension": ".py",
   "mimetype": "text/x-python",
   "name": "python",
   "nbconvert_exporter": "python",
   "pygments_lexer": "ipython3",
   "version": "3.9.9"
  }
 },
 "nbformat": 4,
 "nbformat_minor": 5
}
