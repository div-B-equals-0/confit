{
 "cells": [
  {
   "cell_type": "markdown",
   "id": "f7838ab0",
   "metadata": {},
   "source": [
    "# Check that fits work in all four quadrants\n",
    "We had a bug report from Vanessa that it did not work in the third and fourth quadrants"
   ]
  },
  {
   "cell_type": "markdown",
   "id": "3380d68e",
   "metadata": {},
   "source": [
    "## Imports\n",
    "\n",
    "We need to explictly add the path to the library since we haven't installed it yet."
   ]
  },
  {
   "cell_type": "code",
   "execution_count": 1,
   "id": "b8c03987",
   "metadata": {},
   "outputs": [],
   "source": [
    "import time"
   ]
  },
  {
   "cell_type": "code",
   "execution_count": 2,
   "id": "d3f80792",
   "metadata": {},
   "outputs": [],
   "source": [
    "start_time = time.time()\n",
    "from pathlib import Path\n",
    "import sys"
   ]
  },
  {
   "cell_type": "code",
   "execution_count": 3,
   "id": "7fd5613a",
   "metadata": {},
   "outputs": [],
   "source": [
    "sys.path.append(\"../src\")\n",
    "import confit\n",
    "import numpy as np\n",
    "import lmfit\n",
    "from matplotlib import pyplot as plt\n",
    "import seaborn as sns"
   ]
  },
  {
   "cell_type": "markdown",
   "id": "ee0411d6",
   "metadata": {},
   "source": [
    "Check that we have the right module"
   ]
  },
  {
   "cell_type": "code",
   "execution_count": 4,
   "id": "dbb6b61f",
   "metadata": {},
   "outputs": [
    {
     "data": {
      "text/plain": [
       "\u001b[0;31mType:\u001b[0m        module\n",
       "\u001b[0;31mString form:\u001b[0m <module 'confit' from '/Users/will/Dropbox/confit/notebooks/../src/confit.py'>\n",
       "\u001b[0;31mFile:\u001b[0m        ~/Dropbox/confit/src/confit.py\n",
       "\u001b[0;31mDocstring:\u001b[0m   Fit conic section curves to data."
      ]
     },
     "metadata": {},
     "output_type": "display_data"
    }
   ],
   "source": [
    "confit?"
   ]
  },
  {
   "cell_type": "markdown",
   "id": "7098e9bf",
   "metadata": {},
   "source": [
    "## Where to save the figures"
   ]
  },
  {
   "cell_type": "code",
   "execution_count": 5,
   "id": "922064f2",
   "metadata": {},
   "outputs": [],
   "source": [
    "figpath = Path.cwd().parent / \"figs\"\n",
    "saveprefix = \"demo05\""
   ]
  },
  {
   "cell_type": "markdown",
   "id": "61b7788f",
   "metadata": {},
   "source": [
    "## Test data\n",
    "\n",
    "I use the same pattern of 7 points as the basis, but we are going to rotate it through different angles to make sure that the fits still work"
   ]
  },
  {
   "cell_type": "code",
   "execution_count": 6,
   "id": "3df0d459",
   "metadata": {},
   "outputs": [],
   "source": [
    "xpts0, ypts0 = np.array([1, 2, 3, 4, 5, 6, 7]), np.array([0, 4, 6, 7, 6, 4, 0])\n",
    "ypts0 += xpts0\n",
    "xpts0 *= 3"
   ]
  },
  {
   "cell_type": "markdown",
   "id": "ab34fafe-ec77-4d69-abcc-bca57a0c441a",
   "metadata": {},
   "source": [
    "## Function to rotate the points\n",
    "\n",
    "Rotate anticlockwise through an angle theta in degrees"
   ]
  },
  {
   "cell_type": "code",
   "execution_count": 7,
   "id": "83dceea8-262d-4282-8d23-2ce3f7236320",
   "metadata": {},
   "outputs": [],
   "source": [
    "def rotate(x, y, theta):\n",
    "    c = np.cos(np.deg2rad(theta))\n",
    "    s = np.sin(np.deg2rad(theta))\n",
    "    xx = x * c - y * s\n",
    "    yy = x * s + y * c\n",
    "    return xx, yy\n",
    "    "
   ]
  },
  {
   "cell_type": "code",
   "execution_count": 8,
   "id": "b45ee975-ee68-4095-a13d-c1f9dbf2a52f",
   "metadata": {},
   "outputs": [
    {
     "data": {
      "text/plain": [
       "(1.0, -0.9999999999999999)"
      ]
     },
     "execution_count": 8,
     "metadata": {},
     "output_type": "execute_result"
    }
   ],
   "source": [
    "rotate(1, 1, -90)"
   ]
  },
  {
   "cell_type": "markdown",
   "id": "f99d3b8a",
   "metadata": {},
   "source": [
    "Plot the points for 6 different orientations"
   ]
  },
  {
   "cell_type": "code",
   "execution_count": 9,
   "id": "31edf380",
   "metadata": {},
   "outputs": [
    {
     "data": {
      "image/png": "[encoded data removed]",
      "text/plain": [
       "<Figure size 640x480 with 1 Axes>"
      ]
     },
     "metadata": {},
     "output_type": "display_data"
    }
   ],
   "source": [
    "fig, ax = plt.subplots()\n",
    "for theta in np.arange(6) * 60:\n",
    "    xpts, ypts = rotate(xpts0, ypts0, theta)\n",
    "    ax.scatter(xpts, ypts)\n",
    "ax.set_aspect(\"equal\")\n",
    "...;"
   ]
  },
  {
   "cell_type": "code",
   "execution_count": 10,
   "id": "b8d2d21e",
   "metadata": {},
   "outputs": [],
   "source": [
    "fig.savefig(figpath / f\"{saveprefix}-points.pdf\", bbox_inches=\"tight\")"
   ]
  },
  {
   "cell_type": "markdown",
   "id": "2200ec40",
   "metadata": {},
   "source": [
    "## Initial guess at conic parameters\n",
    "\n",
    "This is done automatically inside the fitting function, but we will do it explicitly so we can see what it is doing"
   ]
  },
  {
   "cell_type": "markdown",
   "id": "aaeb1a4c-f4a4-4f7e-aadd-46d2220698b8",
   "metadata": {},
   "source": [
    "I have added some debug print statements inside of `init_conic_from_xy()` so we can see what is going on. This led to the realization that the problem was with the use of the median for finding the initia focus position. I have switched it to the mean, which seems to have solved the problem. "
   ]
  },
  {
   "cell_type": "code",
   "execution_count": 11,
   "id": "ac7d04dd",
   "metadata": {},
   "outputs": [
    {
     "name": "stdout",
     "output_type": "stream",
     "text": [
      "closest_points=array([3, 2, 4, 1, 5])\n",
      "r[closest_points]=array([3.14285714, 3.21031501, 4.34483038, 6.28084227, 6.37117232])\n",
      "np.rad2deg(th[closest_points])=array([ -60.        ,    9.14554196, -103.66778015,   47.19854122,\n",
      "       -130.34617594])\n",
      "theta0=306.9268304461369\n"
     ]
    },
    {
     "data": {
      "text/plain": [
       "{'x0': -6.4637334168418334,\n",
       " 'y0': -12.804485315449162,\n",
       " 'r0': 4.670003423475774,\n",
       " 'theta0': 306.9268304461369,\n",
       " 'eccentricity': 1.0}"
      ]
     },
     "execution_count": 11,
     "metadata": {},
     "output_type": "execute_result"
    }
   ],
   "source": [
    "theta = 210\n",
    "xpts, ypts = rotate(xpts0, ypts0, theta)\n",
    "confit.DEBUG = True\n",
    "initial_conic = confit.init_conic_from_xy(xpts, ypts)\n",
    "initial_conic"
   ]
  },
  {
   "cell_type": "markdown",
   "id": "673298e7",
   "metadata": {},
   "source": [
    "Look at the residuals for this initial guess, which is\n",
    "$$\n",
    "r - e d\n",
    "$$\n",
    "where $r$ is the radius of each point from the focus and $d$ is the distance of each point from the directrix.\n",
    "\n",
    "We turn on DEBUG so that the residual function will print out the individual vectors, $r$, $d$, and $e \\times d$."
   ]
  },
  {
   "cell_type": "code",
   "execution_count": 12,
   "id": "771a04f0",
   "metadata": {},
   "outputs": [
    {
     "name": "stdout",
     "output_type": "stream",
     "text": [
      "r = [11.31461038  6.28084227  3.21031501  3.14285714  4.34483038  6.37117232\n",
      "  9.04072419]\n",
      "d = [15.06168383 10.45998409  7.84368631  6.2200895   6.58189464  7.93640075\n",
      " 11.27630882]\n",
      "e d = [15.06168383 10.45998409  7.84368631  6.2200895   6.58189464  7.93640075\n",
      " 11.27630882]\n"
     ]
    },
    {
     "data": {
      "text/plain": [
       "array([-3.74707344, -4.17914182, -4.6333713 , -3.07723235, -2.23706426,\n",
       "       -1.56522843, -2.23558463])"
      ]
     },
     "execution_count": 12,
     "metadata": {},
     "output_type": "execute_result"
    }
   ],
   "source": [
    "initial_params = lmfit.create_params(**initial_conic)\n",
    "confit.residual(initial_params, xpts, ypts)"
   ]
  },
  {
   "cell_type": "markdown",
   "id": "10d09123",
   "metadata": {},
   "source": [
    "The residuals are all negative, meaning points are inside the conic. This suggests that `r0` is overestimated."
   ]
  },
  {
   "cell_type": "markdown",
   "id": "078dcc0e",
   "metadata": {},
   "source": [
    "Turn the `DEBUG` flag back off."
   ]
  },
  {
   "cell_type": "code",
   "execution_count": 13,
   "id": "5c25fb72",
   "metadata": {},
   "outputs": [],
   "source": [
    "confit.DEBUG = False"
   ]
  },
  {
   "cell_type": "code",
   "execution_count": 14,
   "id": "44c73176-6b7d-4cb6-a651-757897c23d4f",
   "metadata": {},
   "outputs": [
    {
     "name": "stdout",
     "output_type": "stream",
     "text": [
      "Conic section curve with focus at (-6.4637334168418334, -12.804485315449162), scale factor 4.670003423475774, angle 306.9268304461369, and eccentricity 1.0.\n"
     ]
    },
    {
     "name": "stderr",
     "output_type": "stream",
     "text": [
      "/Users/will/Dropbox/confit/notebooks/../src/confit.py:131: RuntimeWarning: divide by zero encountered in true_divide\n",
      "  self.r0\n"
     ]
    }
   ],
   "source": [
    "init_xy = confit.XYconic(**initial_conic)\n",
    "print(init_xy)"
   ]
  },
  {
   "cell_type": "code",
   "execution_count": 15,
   "id": "1b0875db-a1ef-499b-bb43-05fd8fc03f5c",
   "metadata": {
    "lines_to_next_cell": 0
   },
   "outputs": [
    {
     "data": {
      "text/plain": [
       "Ellipsis"
      ]
     },
     "execution_count": 15,
     "metadata": {},
     "output_type": "execute_result"
    },
    {
     "data": {
      "image/png": "[encoded data removed]",
      "text/plain": [
       "<Figure size 640x480 with 1 Axes>"
      ]
     },
     "metadata": {},
     "output_type": "display_data"
    }
   ],
   "source": [
    "fig, ax = plt.subplots()\n",
    "ax.scatter(xpts, ypts, color=\"k\")\n",
    "\n",
    "c = \"C0\"\n",
    "ax.plot(init_xy.x_pts, init_xy.y_pts, color=c)\n",
    "ax.scatter(init_xy.x0, init_xy.y0, marker=\"+\", color=c)\n",
    "ax.plot([init_xy.x0, init_xy.x_mirror], [init_xy.y0, init_xy.y_mirror], color=c)\n",
    "\n",
    "ax.set_aspect(\"equal\")\n",
    "margin = 8\n",
    "ax.set(\n",
    "    xlim=[xpts.min() - margin, xpts.max() + margin],\n",
    "    ylim=[ypts.min() - margin, ypts.max() + margin],\n",
    ")\n",
    "..."
   ]
  },
  {
   "cell_type": "markdown",
   "id": "dc91de05",
   "metadata": {},
   "source": [
    "## Do the fitting for a range of rotations of the origina data\n",
    "\n",
    "We make a dictionary with keys of the rotation angles that holds the data points and the two fits (parabola and general conic)"
   ]
  },
  {
   "cell_type": "code",
   "execution_count": 16,
   "id": "1016ee0e",
   "metadata": {},
   "outputs": [],
   "source": [
    "results = {}\n",
    "for theta in np.arange(6) * 60:\n",
    "    xpts, ypts = rotate(xpts0, ypts0, theta)\n",
    "    result_p = confit.fit_conic_to_xy(xpts, ypts, only_parabola=True)\n",
    "    result_e = confit.fit_conic_to_xy(xpts, ypts, only_parabola=False)\n",
    "    results[theta] = {\n",
    "        \"x\": xpts, \n",
    "        \"y\": ypts,\n",
    "        \"pfit\": result_p,\n",
    "        \"efit\": result_e,\n",
    "    }"
   ]
  },
  {
   "cell_type": "markdown",
   "id": "83a14e55",
   "metadata": {},
   "source": [
    "\n",
    "Look at the residuals:"
   ]
  },
  {
   "cell_type": "code",
   "execution_count": 17,
   "id": "fc2ccdfb",
   "metadata": {},
   "outputs": [
    {
     "data": {
      "text/plain": [
       "[array([-0.02965692,  0.09711228, -0.15980911,  0.20396384, -0.24071297,\n",
       "         0.20138748, -0.07228459]),\n",
       " array([-0.02965547,  0.09711188, -0.15981083,  0.20396269, -0.24071195,\n",
       "         0.20138874, -0.07228506]),\n",
       " array([-0.02965732,  0.09711277, -0.15980821,  0.20396369, -0.24071441,\n",
       "         0.20138679, -0.0722833 ]),\n",
       " array([-0.02965468,  0.09711193, -0.15981145,  0.20396188, -0.24071205,\n",
       "         0.20138914, -0.07228478]),\n",
       " array([-0.02965624,  0.09711233, -0.15980963,  0.20396309, -0.24071313,\n",
       "         0.20138782, -0.07228425]),\n",
       " array([-0.02965432,  0.09711143, -0.15981231,  0.20396205, -0.24071064,\n",
       "         0.20138982, -0.07228601])]"
      ]
     },
     "execution_count": 17,
     "metadata": {},
     "output_type": "execute_result"
    }
   ],
   "source": [
    "[result[\"pfit\"].residual for result in results.values()]"
   ]
  },
  {
   "cell_type": "markdown",
   "id": "35341eed-b408-4cea-80cb-2d9c85521d27",
   "metadata": {},
   "source": [
    "Those all look the same, which is good. \n",
    "\n",
    "Extract all the parameters as a dataframe"
   ]
  },
  {
   "cell_type": "code",
   "execution_count": 18,
   "id": "33148c22-fa9b-4763-9679-d0a1b59b2e30",
   "metadata": {},
   "outputs": [],
   "source": [
    "import pandas as pd"
   ]
  },
  {
   "cell_type": "code",
   "execution_count": 19,
   "id": "a0b8bb2b-44b8-4bc5-ad7d-ffb5aa615b5a",
   "metadata": {},
   "outputs": [
    {
     "data": {
      "text/html": [
       "<div>\n",
       "<style scoped>\n",
       "    .dataframe tbody tr th:only-of-type {\n",
       "        vertical-align: middle;\n",
       "    }\n",
       "\n",
       "    .dataframe tbody tr th {\n",
       "        vertical-align: top;\n",
       "    }\n",
       "\n",
       "    .dataframe thead th {\n",
       "        text-align: right;\n",
       "    }\n",
       "</style>\n",
       "<table border=\"1\" class=\"dataframe\">\n",
       "  <thead>\n",
       "    <tr style=\"text-align: right;\">\n",
       "      <th></th>\n",
       "      <th>angle</th>\n",
       "      <th>x0</th>\n",
       "      <th>y0</th>\n",
       "      <th>r0</th>\n",
       "      <th>theta0</th>\n",
       "      <th>eccentricity</th>\n",
       "    </tr>\n",
       "  </thead>\n",
       "  <tbody>\n",
       "    <tr>\n",
       "      <th>0</th>\n",
       "      <td>0</td>\n",
       "      <td>14.183694</td>\n",
       "      <td>7.944284</td>\n",
       "      <td>3.242200</td>\n",
       "      <td>87.802589</td>\n",
       "      <td>0.933625</td>\n",
       "    </tr>\n",
       "    <tr>\n",
       "      <th>1</th>\n",
       "      <td>60</td>\n",
       "      <td>0.211882</td>\n",
       "      <td>16.255574</td>\n",
       "      <td>3.242193</td>\n",
       "      <td>147.802717</td>\n",
       "      <td>0.933628</td>\n",
       "    </tr>\n",
       "    <tr>\n",
       "      <th>2</th>\n",
       "      <td>120</td>\n",
       "      <td>-13.971803</td>\n",
       "      <td>8.311296</td>\n",
       "      <td>3.242197</td>\n",
       "      <td>207.802585</td>\n",
       "      <td>0.933626</td>\n",
       "    </tr>\n",
       "    <tr>\n",
       "      <th>3</th>\n",
       "      <td>180</td>\n",
       "      <td>-14.183677</td>\n",
       "      <td>-7.944300</td>\n",
       "      <td>3.242186</td>\n",
       "      <td>267.802770</td>\n",
       "      <td>0.933629</td>\n",
       "    </tr>\n",
       "    <tr>\n",
       "      <th>4</th>\n",
       "      <td>240</td>\n",
       "      <td>-0.211886</td>\n",
       "      <td>-16.255581</td>\n",
       "      <td>3.242194</td>\n",
       "      <td>327.802642</td>\n",
       "      <td>0.933627</td>\n",
       "    </tr>\n",
       "    <tr>\n",
       "      <th>5</th>\n",
       "      <td>300</td>\n",
       "      <td>13.971799</td>\n",
       "      <td>-8.311276</td>\n",
       "      <td>3.242190</td>\n",
       "      <td>27.802774</td>\n",
       "      <td>0.933629</td>\n",
       "    </tr>\n",
       "  </tbody>\n",
       "</table>\n",
       "</div>"
      ],
      "text/plain": [
       "   angle         x0         y0        r0      theta0  eccentricity\n",
       "0      0  14.183694   7.944284  3.242200   87.802589      0.933625\n",
       "1     60   0.211882  16.255574  3.242193  147.802717      0.933628\n",
       "2    120 -13.971803   8.311296  3.242197  207.802585      0.933626\n",
       "3    180 -14.183677  -7.944300  3.242186  267.802770      0.933629\n",
       "4    240  -0.211886 -16.255581  3.242194  327.802642      0.933627\n",
       "5    300  13.971799  -8.311276  3.242190   27.802774      0.933629"
      ]
     },
     "execution_count": 19,
     "metadata": {},
     "output_type": "execute_result"
    }
   ],
   "source": [
    "df = pd.DataFrame(\n",
    "    {\"angle\": angle, **result[\"efit\"].params.valuesdict()} \n",
    "    for angle, result in results.items()\n",
    ")\n",
    "df"
   ]
  },
  {
   "cell_type": "markdown",
   "id": "947e2261-d44e-45f6-8781-c72c9aedc644",
   "metadata": {},
   "source": [
    "Now look at the fitted angle minus the data rotation angle"
   ]
  },
  {
   "cell_type": "code",
   "execution_count": 20,
   "id": "021da38f",
   "metadata": {},
   "outputs": [
    {
     "data": {
      "text/plain": [
       "[(0.0, 180.0)]"
      ]
     },
     "execution_count": 20,
     "metadata": {},
     "output_type": "execute_result"
    },
    {
     "data": {
      "image/png": "[encoded data removed]",
      "text/plain": [
       "<Figure size 640x480 with 1 Axes>"
      ]
     },
     "metadata": {},
     "output_type": "display_data"
    }
   ],
   "source": [
    "fig, ax = plt.subplots()\n",
    "ax.plot(df[\"angle\"], (df[\"theta0\"] - df[\"angle\"]) % 360)\n",
    "ax.set(ylim=[0, 180])"
   ]
  },
  {
   "cell_type": "markdown",
   "id": "a4475a4c-fc62-4179-ab9e-680416f92a98",
   "metadata": {},
   "source": [
    "This is constant, which is what we hoped. This show that the fit is the same for all the different data rotation angle. "
   ]
  },
  {
   "cell_type": "markdown",
   "id": "3c4f052d",
   "metadata": {},
   "source": [
    "## Plotting the best fit onto the data"
   ]
  },
  {
   "cell_type": "code",
   "execution_count": 21,
   "id": "8996cea9",
   "metadata": {},
   "outputs": [
    {
     "name": "stdout",
     "output_type": "stream",
     "text": [
      "Conic section curve with focus at (14.107847533118834, -7.974940255933507), scale factor 2.9827104846050414, angle 30.186064225941678, and eccentricity 1.0.\n"
     ]
    },
    {
     "name": "stderr",
     "output_type": "stream",
     "text": [
      "/Users/will/Dropbox/confit/notebooks/../src/confit.py:131: RuntimeWarning: divide by zero encountered in true_divide\n",
      "  self.r0\n"
     ]
    }
   ],
   "source": [
    "bestp_xy = confit.XYconic(**result_p.params.valuesdict())\n",
    "print(bestp_xy)"
   ]
  },
  {
   "cell_type": "code",
   "execution_count": 22,
   "id": "f4b138c9",
   "metadata": {},
   "outputs": [
    {
     "name": "stdout",
     "output_type": "stream",
     "text": [
      "Conic section curve with focus at (13.971799481714019, -8.311275701645181), scale factor 3.242189971560144, angle 27.802773740099674, and eccentricity 0.9336285067208161.\n"
     ]
    }
   ],
   "source": [
    "beste_xy = confit.XYconic(**result_e.params.valuesdict())\n",
    "print(beste_xy)"
   ]
  },
  {
   "cell_type": "code",
   "execution_count": 23,
   "id": "23cfca48",
   "metadata": {},
   "outputs": [
    {
     "name": "stdout",
     "output_type": "stream",
     "text": [
      "Conic section curve with focus at (-6.4637334168418334, -12.804485315449162), scale factor 4.670003423475774, angle 306.9268304461369, and eccentricity 1.0.\n"
     ]
    }
   ],
   "source": [
    "init_xy = confit.XYconic(**initial_conic)\n",
    "print(init_xy)"
   ]
  },
  {
   "cell_type": "code",
   "execution_count": 24,
   "id": "3c482bf4",
   "metadata": {
    "lines_to_next_cell": 0
   },
   "outputs": [
    {
     "data": {
      "image/png": "[encoded data removed]",
      "text/plain": [
       "<Figure size 640x480 with 1 Axes>"
      ]
     },
     "metadata": {},
     "output_type": "display_data"
    }
   ],
   "source": [
    "fig, ax = plt.subplots()\n",
    "for theta, result in results.items():\n",
    "    beste_xy = confit.XYconic(**result[\"efit\"].params.valuesdict())\n",
    "    ax.plot(beste_xy.x_pts, beste_xy.y_pts)\n",
    "    ax.scatter(result[\"x\"], result[\"y\"], marker=\".\", color=\"k\")\n",
    "    ax.set_aspect(\"equal\")\n",
    "...;"
   ]
  },
  {
   "cell_type": "code",
   "execution_count": 25,
   "id": "e35add8e",
   "metadata": {},
   "outputs": [],
   "source": [
    "fig.savefig(figpath / f\"{saveprefix}-best-fits.pdf\", bbox_inches=\"tight\")"
   ]
  },
  {
   "cell_type": "markdown",
   "id": "da560794",
   "metadata": {},
   "source": [
    "## Execution time for notebook"
   ]
  },
  {
   "cell_type": "code",
   "execution_count": 26,
   "id": "fafd8d48",
   "metadata": {},
   "outputs": [
    {
     "name": "stdout",
     "output_type": "stream",
     "text": [
      "--- 3.345081090927124 seconds ---\n"
     ]
    }
   ],
   "source": [
    "print(f\"--- {time.time() - start_time} seconds ---\")"
   ]
  }
 ],
 "metadata": {
  "jupytext": {
   "formats": "ipynb,py:light"
  },
  "kernelspec": {
   "display_name": "Python 3 (ipykernel)",
   "language": "python",
   "name": "python3"
  },
  "language_info": {
   "codemirror_mode": {
    "name": "ipython",
    "version": 3
   },
   "file_extension": ".py",
   "mimetype": "text/x-python",
   "name": "python",
   "nbconvert_exporter": "python",
   "pygments_lexer": "ipython3",
   "version": "3.9.9"
  }
 },
 "nbformat": 4,
 "nbformat_minor": 5
}
